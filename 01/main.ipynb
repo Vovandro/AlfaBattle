{
 "cells": [
  {
   "cell_type": "code",
   "execution_count": 138,
   "metadata": {},
   "outputs": [],
   "source": [
    "import pandas as pd\n",
    "import numpy as np\n",
    "import pyarrow.parquet as pq\n",
    "from sklearn.linear_model import RidgeClassifier"
   ]
  },
  {
   "cell_type": "code",
   "execution_count": 139,
   "metadata": {},
   "outputs": [
    {
     "data": {
      "text/plain": [
       "Project(vovandro/alfabattle1)"
      ]
     },
     "execution_count": 139,
     "metadata": {},
     "output_type": "execute_result"
    }
   ],
   "source": [
    "import neptune\n",
    "\n",
    "neptune.init(project_qualified_name='', # change this to your `workspace_name/project_name`\n",
    "             api_token='', # change this to your api token\n",
    "            )"
   ]
  },
  {
   "cell_type": "code",
   "execution_count": 140,
   "metadata": {},
   "outputs": [],
   "source": [
    "df = pd.read_csv('alfabattle2_abattle_train_target.csv', parse_dates=['timestamp'])"
   ]
  },
  {
   "cell_type": "code",
   "execution_count": 141,
   "metadata": {},
   "outputs": [
    {
     "data": {
      "text/html": [
       "<div>\n",
       "<style scoped>\n",
       "    .dataframe tbody tr th:only-of-type {\n",
       "        vertical-align: middle;\n",
       "    }\n",
       "\n",
       "    .dataframe tbody tr th {\n",
       "        vertical-align: top;\n",
       "    }\n",
       "\n",
       "    .dataframe thead th {\n",
       "        text-align: right;\n",
       "    }\n",
       "</style>\n",
       "<table border=\"1\" class=\"dataframe\">\n",
       "  <thead>\n",
       "    <tr style=\"text-align: right;\">\n",
       "      <th></th>\n",
       "      <th>session_id</th>\n",
       "      <th>client_pin</th>\n",
       "      <th>timestamp</th>\n",
       "      <th>multi_class_target</th>\n",
       "    </tr>\n",
       "  </thead>\n",
       "  <tbody>\n",
       "    <tr>\n",
       "      <th>0</th>\n",
       "      <td>0000029e72e5fcde6a9f29c3a3ed198f</td>\n",
       "      <td>7cf9221322a0e2fdefb1b998b8f2ab29</td>\n",
       "      <td>2020-06-15 14:01:12</td>\n",
       "      <td>main_screen</td>\n",
       "    </tr>\n",
       "    <tr>\n",
       "      <th>1</th>\n",
       "      <td>00063dffa47b0fe5556b2b9e8beddb6a</td>\n",
       "      <td>5f16c0ab27a806fd08db3122921adf3a</td>\n",
       "      <td>2020-03-21 12:59:34</td>\n",
       "      <td>invest</td>\n",
       "    </tr>\n",
       "    <tr>\n",
       "      <th>2</th>\n",
       "      <td>0007857f36d268ec46fcb7305538a1c7</td>\n",
       "      <td>ec868fc2b388293cf10e18ee9518d72f</td>\n",
       "      <td>2020-01-24 18:18:55</td>\n",
       "      <td>statement</td>\n",
       "    </tr>\n",
       "    <tr>\n",
       "      <th>3</th>\n",
       "      <td>000a7f25fc3609cdfda54c5f059aab00</td>\n",
       "      <td>91f55a33d7502c1a1fa5da7ff2f7b648</td>\n",
       "      <td>2020-03-15 19:50:23</td>\n",
       "      <td>main_screen</td>\n",
       "    </tr>\n",
       "    <tr>\n",
       "      <th>4</th>\n",
       "      <td>000b746d6616669663feaa1474ac97f1</td>\n",
       "      <td>3ef1020bda95ce7836d2680fa553ecb7</td>\n",
       "      <td>2020-02-20 07:56:58</td>\n",
       "      <td>main_screen</td>\n",
       "    </tr>\n",
       "  </tbody>\n",
       "</table>\n",
       "</div>"
      ],
      "text/plain": [
       "                         session_id                        client_pin  \\\n",
       "0  0000029e72e5fcde6a9f29c3a3ed198f  7cf9221322a0e2fdefb1b998b8f2ab29   \n",
       "1  00063dffa47b0fe5556b2b9e8beddb6a  5f16c0ab27a806fd08db3122921adf3a   \n",
       "2  0007857f36d268ec46fcb7305538a1c7  ec868fc2b388293cf10e18ee9518d72f   \n",
       "3  000a7f25fc3609cdfda54c5f059aab00  91f55a33d7502c1a1fa5da7ff2f7b648   \n",
       "4  000b746d6616669663feaa1474ac97f1  3ef1020bda95ce7836d2680fa553ecb7   \n",
       "\n",
       "            timestamp multi_class_target  \n",
       "0 2020-06-15 14:01:12        main_screen  \n",
       "1 2020-03-21 12:59:34             invest  \n",
       "2 2020-01-24 18:18:55          statement  \n",
       "3 2020-03-15 19:50:23        main_screen  \n",
       "4 2020-02-20 07:56:58        main_screen  "
      ]
     },
     "execution_count": 141,
     "metadata": {},
     "output_type": "execute_result"
    }
   ],
   "source": [
    "df.head()"
   ]
  },
  {
   "cell_type": "code",
   "execution_count": 143,
   "metadata": {},
   "outputs": [],
   "source": [
    "class_target = {'main_screen':0, 'invest':1, 'statement':2, 'phone_money_transfer':3,\n",
    "       'own_transfer':4, 'credit_info':5, 'chat':6, 'card2card_transfer':7,\n",
    "       'mobile_recharge':8, 'card_recharge':9,\n",
    "        0:'main_screen', 1:'invest', 2:'statement', 3:'phone_money_transfer',\n",
    "       4:'own_transfer', 5:'credit_info', 6:'chat', 7:'card2card_transfer',\n",
    "       8:'mobile_recharge', 9:'card_recharge'}"
   ]
  },
  {
   "cell_type": "code",
   "execution_count": 144,
   "metadata": {},
   "outputs": [],
   "source": [
    "#df['main_screen'] = df['multi_class_target'] == 'main_screen'\n",
    "#df['invest'] = df['multi_class_target'] == 'invest'\n",
    "#df['statement'] = df['multi_class_target'] == 'statement'\n",
    "#df['phone_money_transfer'] = df['multi_class_target'] == 'phone_money_transfer'\n",
    "#df['own_transfer'] = df['multi_class_target'] == 'own_transfer'\n",
    "#df['credit_info'] = df['multi_class_target'] == 'credit_info'\n",
    "#df['chat'] = df['multi_class_target'] == 'chat'\n",
    "#df['card2card_transfer'] = df['multi_class_target'] == 'card2card_transfer'\n",
    "#df['mobile_recharge'] = df['multi_class_target'] == 'mobile_recharge'\n",
    "#df['card_recharge'] = df['multi_class_target'] == 'card_recharge'\n",
    "df['class_target'] = df['multi_class_target'].apply(lambda row: class_target[row]).astype(np.int8)"
   ]
  },
  {
   "cell_type": "code",
   "execution_count": 145,
   "metadata": {},
   "outputs": [],
   "source": [
    "df['y'] = df.timestamp.dt.year\n",
    "df['m'] = df.timestamp.dt.month\n",
    "df['d'] = df.timestamp.dt.day\n",
    "df['dw'] = df.timestamp.dt.dayofweek\n",
    "df['h'] = df.timestamp.dt.hour"
   ]
  },
  {
   "cell_type": "code",
   "execution_count": 146,
   "metadata": {},
   "outputs": [],
   "source": [
    "del df['timestamp']\n",
    "del df['multi_class_target']\n",
    "del df['session_id']"
   ]
  },
  {
   "cell_type": "code",
   "execution_count": 147,
   "metadata": {},
   "outputs": [
    {
     "data": {
      "text/html": [
       "<div>\n",
       "<style scoped>\n",
       "    .dataframe tbody tr th:only-of-type {\n",
       "        vertical-align: middle;\n",
       "    }\n",
       "\n",
       "    .dataframe tbody tr th {\n",
       "        vertical-align: top;\n",
       "    }\n",
       "\n",
       "    .dataframe thead th {\n",
       "        text-align: right;\n",
       "    }\n",
       "</style>\n",
       "<table border=\"1\" class=\"dataframe\">\n",
       "  <thead>\n",
       "    <tr style=\"text-align: right;\">\n",
       "      <th></th>\n",
       "      <th>client_pin</th>\n",
       "      <th>class_target</th>\n",
       "      <th>y</th>\n",
       "      <th>m</th>\n",
       "      <th>d</th>\n",
       "      <th>dw</th>\n",
       "      <th>h</th>\n",
       "    </tr>\n",
       "  </thead>\n",
       "  <tbody>\n",
       "    <tr>\n",
       "      <th>695067</th>\n",
       "      <td>f0c674b2bb4dc64be607029271d706ec</td>\n",
       "      <td>9</td>\n",
       "      <td>2020</td>\n",
       "      <td>7</td>\n",
       "      <td>5</td>\n",
       "      <td>6</td>\n",
       "      <td>7</td>\n",
       "    </tr>\n",
       "    <tr>\n",
       "      <th>1409788</th>\n",
       "      <td>f0c674b2bb4dc64be607029271d706ec</td>\n",
       "      <td>5</td>\n",
       "      <td>2020</td>\n",
       "      <td>7</td>\n",
       "      <td>28</td>\n",
       "      <td>1</td>\n",
       "      <td>19</td>\n",
       "    </tr>\n",
       "    <tr>\n",
       "      <th>2535361</th>\n",
       "      <td>f0c674b2bb4dc64be607029271d706ec</td>\n",
       "      <td>5</td>\n",
       "      <td>2020</td>\n",
       "      <td>7</td>\n",
       "      <td>12</td>\n",
       "      <td>6</td>\n",
       "      <td>11</td>\n",
       "    </tr>\n",
       "    <tr>\n",
       "      <th>4707602</th>\n",
       "      <td>f0c674b2bb4dc64be607029271d706ec</td>\n",
       "      <td>9</td>\n",
       "      <td>2020</td>\n",
       "      <td>7</td>\n",
       "      <td>14</td>\n",
       "      <td>1</td>\n",
       "      <td>17</td>\n",
       "    </tr>\n",
       "  </tbody>\n",
       "</table>\n",
       "</div>"
      ],
      "text/plain": [
       "                               client_pin  class_target     y  m   d  dw   h\n",
       "695067   f0c674b2bb4dc64be607029271d706ec             9  2020  7   5   6   7\n",
       "1409788  f0c674b2bb4dc64be607029271d706ec             5  2020  7  28   1  19\n",
       "2535361  f0c674b2bb4dc64be607029271d706ec             5  2020  7  12   6  11\n",
       "4707602  f0c674b2bb4dc64be607029271d706ec             9  2020  7  14   1  17"
      ]
     },
     "execution_count": 147,
     "metadata": {},
     "output_type": "execute_result"
    }
   ],
   "source": [
    "df[df['client_pin'] == \t'f0c674b2bb4dc64be607029271d706ec']"
   ]
  },
  {
   "cell_type": "code",
   "execution_count": 148,
   "metadata": {},
   "outputs": [],
   "source": [
    "df_pred = pd.read_csv('alfabattle2_prediction_session_timestamp.csv', parse_dates=['timestamp'])\n",
    "df_pred['y'] = df_pred.timestamp.dt.year\n",
    "df_pred['m'] = df_pred.timestamp.dt.month\n",
    "df_pred['d'] = df_pred.timestamp.dt.day\n",
    "df_pred['dw'] = df_pred.timestamp.dt.dayofweek\n",
    "df_pred['h'] = df_pred.timestamp.dt.hour\n",
    "del df_pred['timestamp']"
   ]
  },
  {
   "cell_type": "code",
   "execution_count": null,
   "metadata": {},
   "outputs": [],
   "source": [
    "neptune.create_experiment(name='in_user_model', upload_source_files=['main.ipynb'])"
   ]
  },
  {
   "cell_type": "code",
   "execution_count": 152,
   "metadata": {},
   "outputs": [],
   "source": [
    "result = []\n",
    "for client in df_pred.iterrows():\n",
    "    # class_target != main_screen\n",
    "    X = df[(df['client_pin'] == client[1]['client_pin']) & (df['class_target'] != 0)]\n",
    "    y = X['class_target']\n",
    "    del X['client_pin']\n",
    "    del X['class_target']\n",
    "    X_test = client[1].copy()\n",
    "    del X_test['client_pin']\n",
    "    \n",
    "    if X.shape[0] != 0:\n",
    "        model = RidgeClassifier(random_state=6).fit(X, y)\n",
    "        y_pred = model.predict([X_test])\n",
    "    else:\n",
    "        y_pred = [2]\n",
    "    \n",
    "    result.append([client[1]['client_pin'], class_target[y_pred[0]]])"
   ]
  },
  {
   "cell_type": "code",
   "execution_count": 153,
   "metadata": {},
   "outputs": [],
   "source": [
    "#neptune.log_artifact('model.pkl')\n",
    "df_result = pd.DataFrame(result, columns=['client_pin', 'prediction'])\n",
    "df_result.to_csv('predict_ridge_individual_no_ms.csv', index=False)"
   ]
  },
  {
   "cell_type": "code",
   "execution_count": 154,
   "metadata": {},
   "outputs": [],
   "source": [
    "neptune.stop()"
   ]
  },
  {
   "cell_type": "code",
   "execution_count": 124,
   "metadata": {},
   "outputs": [
    {
     "data": {
      "text/html": [
       "<div>\n",
       "<style scoped>\n",
       "    .dataframe tbody tr th:only-of-type {\n",
       "        vertical-align: middle;\n",
       "    }\n",
       "\n",
       "    .dataframe tbody tr th {\n",
       "        vertical-align: top;\n",
       "    }\n",
       "\n",
       "    .dataframe thead th {\n",
       "        text-align: right;\n",
       "    }\n",
       "</style>\n",
       "<table border=\"1\" class=\"dataframe\">\n",
       "  <thead>\n",
       "    <tr style=\"text-align: right;\">\n",
       "      <th></th>\n",
       "      <th>client_pin</th>\n",
       "      <th>prediction</th>\n",
       "    </tr>\n",
       "  </thead>\n",
       "  <tbody>\n",
       "    <tr>\n",
       "      <th>0</th>\n",
       "      <td>f0c674b2bb4dc64be607029271d706ec</td>\n",
       "      <td>card_recharge</td>\n",
       "    </tr>\n",
       "    <tr>\n",
       "      <th>1</th>\n",
       "      <td>90725b54ce77576883813d87749df6bd</td>\n",
       "      <td>main_screen</td>\n",
       "    </tr>\n",
       "    <tr>\n",
       "      <th>2</th>\n",
       "      <td>eb0f82d74c7b7bd5eafbd5b5f8cb3e2a</td>\n",
       "      <td>statement</td>\n",
       "    </tr>\n",
       "    <tr>\n",
       "      <th>3</th>\n",
       "      <td>831bf4c0ecccc55e536b8cfb9153d672</td>\n",
       "      <td>statement</td>\n",
       "    </tr>\n",
       "    <tr>\n",
       "      <th>4</th>\n",
       "      <td>3f1a5a1c492ce877af833113e59c5797</td>\n",
       "      <td>main_screen</td>\n",
       "    </tr>\n",
       "    <tr>\n",
       "      <th>...</th>\n",
       "      <td>...</td>\n",
       "      <td>...</td>\n",
       "    </tr>\n",
       "    <tr>\n",
       "      <th>79263</th>\n",
       "      <td>4e46e206d38dcb7af41d9ced20d50ac2</td>\n",
       "      <td>statement</td>\n",
       "    </tr>\n",
       "    <tr>\n",
       "      <th>79264</th>\n",
       "      <td>5b59bf5bd1e07775b1bc95dd7151d2cd</td>\n",
       "      <td>main_screen</td>\n",
       "    </tr>\n",
       "    <tr>\n",
       "      <th>79265</th>\n",
       "      <td>94bcc852dd7f806f6c733056d1b0be7b</td>\n",
       "      <td>statement</td>\n",
       "    </tr>\n",
       "    <tr>\n",
       "      <th>79266</th>\n",
       "      <td>2061f779928217eea2878fd3b605fafd</td>\n",
       "      <td>main_screen</td>\n",
       "    </tr>\n",
       "    <tr>\n",
       "      <th>79267</th>\n",
       "      <td>e2f0cede9e3bc3d6ed7c77c4e08af136</td>\n",
       "      <td>main_screen</td>\n",
       "    </tr>\n",
       "  </tbody>\n",
       "</table>\n",
       "<p>79268 rows × 2 columns</p>\n",
       "</div>"
      ],
      "text/plain": [
       "                             client_pin     prediction\n",
       "0      f0c674b2bb4dc64be607029271d706ec  card_recharge\n",
       "1      90725b54ce77576883813d87749df6bd    main_screen\n",
       "2      eb0f82d74c7b7bd5eafbd5b5f8cb3e2a      statement\n",
       "3      831bf4c0ecccc55e536b8cfb9153d672      statement\n",
       "4      3f1a5a1c492ce877af833113e59c5797    main_screen\n",
       "...                                 ...            ...\n",
       "79263  4e46e206d38dcb7af41d9ced20d50ac2      statement\n",
       "79264  5b59bf5bd1e07775b1bc95dd7151d2cd    main_screen\n",
       "79265  94bcc852dd7f806f6c733056d1b0be7b      statement\n",
       "79266  2061f779928217eea2878fd3b605fafd    main_screen\n",
       "79267  e2f0cede9e3bc3d6ed7c77c4e08af136    main_screen\n",
       "\n",
       "[79268 rows x 2 columns]"
      ]
     },
     "execution_count": 124,
     "metadata": {},
     "output_type": "execute_result"
    }
   ],
   "source": [
    "df_result"
   ]
  },
  {
   "cell_type": "code",
   "execution_count": null,
   "metadata": {},
   "outputs": [],
   "source": []
  }
 ],
 "metadata": {
  "hide_input": false,
  "kernelspec": {
   "display_name": "Python 3",
   "language": "python",
   "name": "python3"
  },
  "language_info": {
   "codemirror_mode": {
    "name": "ipython",
    "version": 3
   },
   "file_extension": ".py",
   "mimetype": "text/x-python",
   "name": "python",
   "nbconvert_exporter": "python",
   "pygments_lexer": "ipython3",
   "version": "3.8.2"
  },
  "toc": {
   "base_numbering": 1,
   "nav_menu": {},
   "number_sections": true,
   "sideBar": true,
   "skip_h1_title": false,
   "title_cell": "Table of Contents",
   "title_sidebar": "Contents",
   "toc_cell": false,
   "toc_position": {},
   "toc_section_display": true,
   "toc_window_display": false
  },
  "varInspector": {
   "cols": {
    "lenName": 16,
    "lenType": 16,
    "lenVar": 40
   },
   "kernels_config": {
    "python": {
     "delete_cmd_postfix": "",
     "delete_cmd_prefix": "del ",
     "library": "var_list.py",
     "varRefreshCmd": "print(var_dic_list())"
    },
    "r": {
     "delete_cmd_postfix": ") ",
     "delete_cmd_prefix": "rm(",
     "library": "var_list.r",
     "varRefreshCmd": "cat(var_dic_list()) "
    }
   },
   "types_to_exclude": [
    "module",
    "function",
    "builtin_function_or_method",
    "instance",
    "_Feature"
   ],
   "window_display": false
  }
 },
 "nbformat": 4,
 "nbformat_minor": 4
}
