{
 "cells": [
  {
   "cell_type": "code",
   "execution_count": 2,
   "metadata": {},
   "outputs": [],
   "source": [
    "import pandas as pd\n",
    "import numpy as np\n",
    "import os\n",
    "from tqdm.notebook import tqdm\n",
    "import gc\n",
    "\n",
    "import catboost as cb"
   ]
  },
  {
   "cell_type": "code",
   "execution_count": null,
   "metadata": {},
   "outputs": [],
   "source": [
    "import neptune\n",
    "\n",
    "neptune.init(project_qualified_name='', # change this to your `workspace_name/project_name`\n",
    "             api_token='', # change this to your api token\n",
    "            )"
   ]
  },
  {
   "cell_type": "code",
   "execution_count": 3,
   "metadata": {},
   "outputs": [],
   "source": [
    "TRAIN_TRANSACTIONS_PATH = './train_transactions_contest/'\n",
    "TEST_TRANSACTIONS_PATH = './test_transactions_contest/'\n",
    "\n",
    "TRAIN_TARGET_PATH = './alfabattle2_train_target.csv'"
   ]
  },
  {
   "cell_type": "code",
   "execution_count": 4,
   "metadata": {},
   "outputs": [],
   "source": [
    "def read_parquet_dataset_from_local(path_to_dataset: str, start_from: int = 0,\n",
    "                                     num_parts_to_read: int = 2, columns=None, verbose=False) -> pd.DataFrame:\n",
    "    \"\"\"\n",
    "    читает num_parts_to_read партиций, преобразует их к pd.DataFrame и возвращает\n",
    "    :param path_to_dataset: путь до директории с партициями\n",
    "    :param start_from: номер партиции, с которой начать чтение\n",
    "    :param num_parts_to_read: количество партиций, которые требуется прочитать\n",
    "    :param columns: список колонок, которые нужно прочитать из партиции\n",
    "    :return: pd.DataFrame\n",
    "    \"\"\"\n",
    "\n",
    "    res = []\n",
    "    dataset_paths = sorted([os.path.join(path_to_dataset, filename) for filename in os.listdir(path_to_dataset) \n",
    "                              if filename.startswith('part')])\n",
    "    \n",
    "    start_from = max(0, start_from)\n",
    "    chunks = dataset_paths[start_from: start_from + num_parts_to_read]\n",
    "    if verbose:\n",
    "        print('Reading chunks:\\n')\n",
    "        for chunk in chunks:\n",
    "            print(chunk)\n",
    "    for chunk_path in tqdm(chunks, desc=\"Reading dataset with pandas\"):\n",
    "        chunk = pd.read_parquet(chunk_path,columns=columns)\n",
    "        res.append(chunk)\n",
    "    return pd.concat(res).reset_index(drop=True)"
   ]
  },
  {
   "cell_type": "code",
   "execution_count": 210,
   "metadata": {},
   "outputs": [
    {
     "data": {
      "application/vnd.jupyter.widget-view+json": {
       "model_id": "2658a6e96df844dd973547e3a00c9f93",
       "version_major": 2,
       "version_minor": 0
      },
      "text/plain": [
       "HBox(children=(HTML(value='Reading dataset with pandas'), FloatProgress(value=0.0, max=1.0), HTML(value='')))"
      ]
     },
     "metadata": {},
     "output_type": "display_data"
    },
    {
     "name": "stdout",
     "output_type": "stream",
     "text": [
      "\n",
      "Объем памяти в  RAM одной партиции данных с транзакциями: 0.476 Gb\n",
      "Ожидаемый размер в RAM всего датасета: 23.798 Gb\n"
     ]
    }
   ],
   "source": [
    "transactions_frame = read_parquet_dataset_from_local(TRAIN_TRANSACTIONS_PATH, start_from=0, num_parts_to_read=1)\n",
    "\n",
    "memory_usage_of_frame = transactions_frame.memory_usage(index=True).sum() / 10**9\n",
    "expected_memory_usage = memory_usage_of_frame * 50\n",
    "print(f'Объем памяти в  RAM одной партиции данных с транзакциями: {round(memory_usage_of_frame, 3)} Gb')\n",
    "print(f'Ожидаемый размер в RAM всего датасета: {round(expected_memory_usage, 3)} Gb')"
   ]
  },
  {
   "cell_type": "code",
   "execution_count": 198,
   "metadata": {},
   "outputs": [
    {
     "data": {
      "text/html": [
       "<div>\n",
       "<style scoped>\n",
       "    .dataframe tbody tr th:only-of-type {\n",
       "        vertical-align: middle;\n",
       "    }\n",
       "\n",
       "    .dataframe tbody tr th {\n",
       "        vertical-align: top;\n",
       "    }\n",
       "\n",
       "    .dataframe thead th {\n",
       "        text-align: right;\n",
       "    }\n",
       "</style>\n",
       "<table border=\"1\" class=\"dataframe\">\n",
       "  <thead>\n",
       "    <tr style=\"text-align: right;\">\n",
       "      <th></th>\n",
       "      <th>app_id</th>\n",
       "      <th>amnt</th>\n",
       "      <th>currency</th>\n",
       "      <th>operation_kind</th>\n",
       "      <th>card_type</th>\n",
       "      <th>operation_type</th>\n",
       "      <th>operation_type_group</th>\n",
       "      <th>ecommerce_flag</th>\n",
       "      <th>payment_system</th>\n",
       "      <th>income_flag</th>\n",
       "      <th>mcc</th>\n",
       "      <th>country</th>\n",
       "      <th>city</th>\n",
       "      <th>mcc_category</th>\n",
       "      <th>day_of_week</th>\n",
       "      <th>hour</th>\n",
       "      <th>days_before</th>\n",
       "      <th>weekofyear</th>\n",
       "      <th>hour_diff</th>\n",
       "      <th>transaction_number</th>\n",
       "    </tr>\n",
       "  </thead>\n",
       "  <tbody>\n",
       "    <tr>\n",
       "      <th>0</th>\n",
       "      <td>0</td>\n",
       "      <td>0.465425</td>\n",
       "      <td>1</td>\n",
       "      <td>4</td>\n",
       "      <td>98</td>\n",
       "      <td>4</td>\n",
       "      <td>2</td>\n",
       "      <td>3</td>\n",
       "      <td>7</td>\n",
       "      <td>3</td>\n",
       "      <td>2</td>\n",
       "      <td>1</td>\n",
       "      <td>37</td>\n",
       "      <td>2</td>\n",
       "      <td>4</td>\n",
       "      <td>19</td>\n",
       "      <td>351</td>\n",
       "      <td>34</td>\n",
       "      <td>-1</td>\n",
       "      <td>1</td>\n",
       "    </tr>\n",
       "    <tr>\n",
       "      <th>1</th>\n",
       "      <td>0</td>\n",
       "      <td>0.000000</td>\n",
       "      <td>1</td>\n",
       "      <td>2</td>\n",
       "      <td>98</td>\n",
       "      <td>7</td>\n",
       "      <td>1</td>\n",
       "      <td>3</td>\n",
       "      <td>7</td>\n",
       "      <td>3</td>\n",
       "      <td>2</td>\n",
       "      <td>1</td>\n",
       "      <td>49</td>\n",
       "      <td>2</td>\n",
       "      <td>4</td>\n",
       "      <td>20</td>\n",
       "      <td>351</td>\n",
       "      <td>34</td>\n",
       "      <td>0</td>\n",
       "      <td>2</td>\n",
       "    </tr>\n",
       "    <tr>\n",
       "      <th>2</th>\n",
       "      <td>0</td>\n",
       "      <td>0.521152</td>\n",
       "      <td>1</td>\n",
       "      <td>2</td>\n",
       "      <td>98</td>\n",
       "      <td>3</td>\n",
       "      <td>1</td>\n",
       "      <td>3</td>\n",
       "      <td>7</td>\n",
       "      <td>3</td>\n",
       "      <td>2</td>\n",
       "      <td>1</td>\n",
       "      <td>37</td>\n",
       "      <td>2</td>\n",
       "      <td>4</td>\n",
       "      <td>20</td>\n",
       "      <td>351</td>\n",
       "      <td>34</td>\n",
       "      <td>0</td>\n",
       "      <td>3</td>\n",
       "    </tr>\n",
       "    <tr>\n",
       "      <th>3</th>\n",
       "      <td>0</td>\n",
       "      <td>0.356078</td>\n",
       "      <td>1</td>\n",
       "      <td>1</td>\n",
       "      <td>5</td>\n",
       "      <td>2</td>\n",
       "      <td>1</td>\n",
       "      <td>3</td>\n",
       "      <td>7</td>\n",
       "      <td>3</td>\n",
       "      <td>10</td>\n",
       "      <td>1</td>\n",
       "      <td>49</td>\n",
       "      <td>7</td>\n",
       "      <td>2</td>\n",
       "      <td>0</td>\n",
       "      <td>348</td>\n",
       "      <td>34</td>\n",
       "      <td>52</td>\n",
       "      <td>4</td>\n",
       "    </tr>\n",
       "    <tr>\n",
       "      <th>4</th>\n",
       "      <td>0</td>\n",
       "      <td>0.000000</td>\n",
       "      <td>1</td>\n",
       "      <td>2</td>\n",
       "      <td>98</td>\n",
       "      <td>7</td>\n",
       "      <td>1</td>\n",
       "      <td>3</td>\n",
       "      <td>7</td>\n",
       "      <td>3</td>\n",
       "      <td>2</td>\n",
       "      <td>1</td>\n",
       "      <td>49</td>\n",
       "      <td>2</td>\n",
       "      <td>4</td>\n",
       "      <td>16</td>\n",
       "      <td>337</td>\n",
       "      <td>53</td>\n",
       "      <td>280</td>\n",
       "      <td>5</td>\n",
       "    </tr>\n",
       "    <tr>\n",
       "      <th>...</th>\n",
       "      <td>...</td>\n",
       "      <td>...</td>\n",
       "      <td>...</td>\n",
       "      <td>...</td>\n",
       "      <td>...</td>\n",
       "      <td>...</td>\n",
       "      <td>...</td>\n",
       "      <td>...</td>\n",
       "      <td>...</td>\n",
       "      <td>...</td>\n",
       "      <td>...</td>\n",
       "      <td>...</td>\n",
       "      <td>...</td>\n",
       "      <td>...</td>\n",
       "      <td>...</td>\n",
       "      <td>...</td>\n",
       "      <td>...</td>\n",
       "      <td>...</td>\n",
       "      <td>...</td>\n",
       "      <td>...</td>\n",
       "    </tr>\n",
       "    <tr>\n",
       "      <th>5408643</th>\n",
       "      <td>23646</td>\n",
       "      <td>0.390944</td>\n",
       "      <td>1</td>\n",
       "      <td>1</td>\n",
       "      <td>37</td>\n",
       "      <td>2</td>\n",
       "      <td>1</td>\n",
       "      <td>1</td>\n",
       "      <td>3</td>\n",
       "      <td>1</td>\n",
       "      <td>1</td>\n",
       "      <td>1</td>\n",
       "      <td>3</td>\n",
       "      <td>1</td>\n",
       "      <td>6</td>\n",
       "      <td>9</td>\n",
       "      <td>2</td>\n",
       "      <td>48</td>\n",
       "      <td>32</td>\n",
       "      <td>453</td>\n",
       "    </tr>\n",
       "    <tr>\n",
       "      <th>5408644</th>\n",
       "      <td>23646</td>\n",
       "      <td>0.428447</td>\n",
       "      <td>1</td>\n",
       "      <td>1</td>\n",
       "      <td>37</td>\n",
       "      <td>2</td>\n",
       "      <td>1</td>\n",
       "      <td>1</td>\n",
       "      <td>3</td>\n",
       "      <td>1</td>\n",
       "      <td>39</td>\n",
       "      <td>1</td>\n",
       "      <td>120</td>\n",
       "      <td>7</td>\n",
       "      <td>5</td>\n",
       "      <td>12</td>\n",
       "      <td>1</td>\n",
       "      <td>48</td>\n",
       "      <td>27</td>\n",
       "      <td>454</td>\n",
       "    </tr>\n",
       "    <tr>\n",
       "      <th>5408645</th>\n",
       "      <td>23646</td>\n",
       "      <td>0.371478</td>\n",
       "      <td>1</td>\n",
       "      <td>1</td>\n",
       "      <td>37</td>\n",
       "      <td>2</td>\n",
       "      <td>1</td>\n",
       "      <td>1</td>\n",
       "      <td>3</td>\n",
       "      <td>1</td>\n",
       "      <td>22</td>\n",
       "      <td>1</td>\n",
       "      <td>2</td>\n",
       "      <td>9</td>\n",
       "      <td>5</td>\n",
       "      <td>13</td>\n",
       "      <td>1</td>\n",
       "      <td>48</td>\n",
       "      <td>1</td>\n",
       "      <td>455</td>\n",
       "    </tr>\n",
       "    <tr>\n",
       "      <th>5408646</th>\n",
       "      <td>23646</td>\n",
       "      <td>0.348726</td>\n",
       "      <td>1</td>\n",
       "      <td>1</td>\n",
       "      <td>37</td>\n",
       "      <td>2</td>\n",
       "      <td>1</td>\n",
       "      <td>1</td>\n",
       "      <td>3</td>\n",
       "      <td>1</td>\n",
       "      <td>22</td>\n",
       "      <td>1</td>\n",
       "      <td>3</td>\n",
       "      <td>9</td>\n",
       "      <td>5</td>\n",
       "      <td>13</td>\n",
       "      <td>1</td>\n",
       "      <td>48</td>\n",
       "      <td>1</td>\n",
       "      <td>456</td>\n",
       "    </tr>\n",
       "    <tr>\n",
       "      <th>5408647</th>\n",
       "      <td>23646</td>\n",
       "      <td>0.324316</td>\n",
       "      <td>1</td>\n",
       "      <td>1</td>\n",
       "      <td>37</td>\n",
       "      <td>2</td>\n",
       "      <td>1</td>\n",
       "      <td>1</td>\n",
       "      <td>3</td>\n",
       "      <td>1</td>\n",
       "      <td>1</td>\n",
       "      <td>1</td>\n",
       "      <td>3</td>\n",
       "      <td>1</td>\n",
       "      <td>5</td>\n",
       "      <td>14</td>\n",
       "      <td>1</td>\n",
       "      <td>48</td>\n",
       "      <td>1</td>\n",
       "      <td>457</td>\n",
       "    </tr>\n",
       "  </tbody>\n",
       "</table>\n",
       "<p>5408648 rows × 20 columns</p>\n",
       "</div>"
      ],
      "text/plain": [
       "         app_id      amnt  currency  operation_kind  card_type  \\\n",
       "0             0  0.465425         1               4         98   \n",
       "1             0  0.000000         1               2         98   \n",
       "2             0  0.521152         1               2         98   \n",
       "3             0  0.356078         1               1          5   \n",
       "4             0  0.000000         1               2         98   \n",
       "...         ...       ...       ...             ...        ...   \n",
       "5408643   23646  0.390944         1               1         37   \n",
       "5408644   23646  0.428447         1               1         37   \n",
       "5408645   23646  0.371478         1               1         37   \n",
       "5408646   23646  0.348726         1               1         37   \n",
       "5408647   23646  0.324316         1               1         37   \n",
       "\n",
       "         operation_type  operation_type_group  ecommerce_flag  payment_system  \\\n",
       "0                     4                     2               3               7   \n",
       "1                     7                     1               3               7   \n",
       "2                     3                     1               3               7   \n",
       "3                     2                     1               3               7   \n",
       "4                     7                     1               3               7   \n",
       "...                 ...                   ...             ...             ...   \n",
       "5408643               2                     1               1               3   \n",
       "5408644               2                     1               1               3   \n",
       "5408645               2                     1               1               3   \n",
       "5408646               2                     1               1               3   \n",
       "5408647               2                     1               1               3   \n",
       "\n",
       "         income_flag  mcc  country  city  mcc_category  day_of_week  hour  \\\n",
       "0                  3    2        1    37             2            4    19   \n",
       "1                  3    2        1    49             2            4    20   \n",
       "2                  3    2        1    37             2            4    20   \n",
       "3                  3   10        1    49             7            2     0   \n",
       "4                  3    2        1    49             2            4    16   \n",
       "...              ...  ...      ...   ...           ...          ...   ...   \n",
       "5408643            1    1        1     3             1            6     9   \n",
       "5408644            1   39        1   120             7            5    12   \n",
       "5408645            1   22        1     2             9            5    13   \n",
       "5408646            1   22        1     3             9            5    13   \n",
       "5408647            1    1        1     3             1            5    14   \n",
       "\n",
       "         days_before  weekofyear  hour_diff  transaction_number  \n",
       "0                351          34         -1                   1  \n",
       "1                351          34          0                   2  \n",
       "2                351          34          0                   3  \n",
       "3                348          34         52                   4  \n",
       "4                337          53        280                   5  \n",
       "...              ...         ...        ...                 ...  \n",
       "5408643            2          48         32                 453  \n",
       "5408644            1          48         27                 454  \n",
       "5408645            1          48          1                 455  \n",
       "5408646            1          48          1                 456  \n",
       "5408647            1          48          1                 457  \n",
       "\n",
       "[5408648 rows x 20 columns]"
      ]
     },
     "execution_count": 198,
     "metadata": {},
     "output_type": "execute_result"
    }
   ],
   "source": [
    "transactions_frame"
   ]
  },
  {
   "cell_type": "code",
   "execution_count": 199,
   "metadata": {},
   "outputs": [
    {
     "data": {
      "text/plain": [
       "94602"
      ]
     },
     "execution_count": 199,
     "metadata": {},
     "output_type": "execute_result"
    }
   ],
   "source": [
    "del transactions_frame\n",
    "gc.collect()"
   ]
  },
  {
   "cell_type": "code",
   "execution_count": 200,
   "metadata": {},
   "outputs": [
    {
     "name": "stdout",
     "output_type": "stream",
     "text": [
      "rm: ./preprocessed_test_transactions/: No such file or directory\n"
     ]
    }
   ],
   "source": [
    "! rm -r ./preprocessed_test_transactions/\n",
    "! mkdir ./preprocessed_test_transactions/\n",
    "! rm -r ./preprocessed_transactions/\n",
    "! mkdir ./preprocessed_transactions/"
   ]
  },
  {
   "cell_type": "code",
   "execution_count": 5,
   "metadata": {},
   "outputs": [],
   "source": [
    "def extract_from_df(df: pd.DataFrame, prefix_colum = ''):\n",
    "    p5 = ('p5', lambda x: np.percentile(x, q=5))\n",
    "    p25 = ('p25', lambda x: np.percentile(x, q=25))\n",
    "    p75 = ('p75', lambda x: np.percentile(x, q=75))\n",
    "    p95 = ('p95', lambda x: np.percentile(x, q=95))\n",
    "    t = df.groupby(['app_id']).agg({\n",
    "        'amnt':['count', 'std', 'mean', 'median', 'sum', 'max', 'min', p5, p25, p75, p95],\n",
    "        'currency':['nunique', 'mean', 'median', p5, p25, p75, p95],\n",
    "        'operation_kind':['nunique', 'mean', 'median', p5, p25, p75, p95],\n",
    "        'card_type':['nunique', 'mean', 'median', p5, p25, p75, p95],\n",
    "        'operation_type':['nunique', 'mean', 'median', p5, p25, p75, p95],\n",
    "        'operation_type_group':['nunique', 'mean', 'median', p5, p25, p75, p95],\n",
    "        'ecommerce_flag':['nunique', 'mean', 'median', p5, p25, p75, p95],\n",
    "        'payment_system':['nunique', 'mean', 'median', p5, p25, p75, p95],\n",
    "        'income_flag':['nunique', 'mean', 'median', p5, p25, p75, p95],\n",
    "        'mcc':['nunique', 'mean', 'median', p5, p25, p75, p95],\n",
    "        'country':['nunique', 'mean', p5, p95],\n",
    "        'city':['nunique', 'mean', p5, p95],\n",
    "        'mcc_category':['nunique', 'mean', 'median', p5, p25, p75, p95],\n",
    "        'hour_diff':['nunique', 'mean', 'median', p5, p25, p75, p95],\n",
    "    })\n",
    "    t.columns = [prefix_colum + \"_\".join(x) for x in t.columns.ravel()]\n",
    "    return t\n",
    "\n",
    "def extract_basic_aggregations(transactions_frame: pd.DataFrame) -> pd.DataFrame:\n",
    "    for slice_date in tqdm([0, 14, 30, 60, 90, 180], desc=\"Extract features in data slice\"):\n",
    "        if slice_date == 0:\n",
    "            buf = extract_from_df(transactions_frame[transactions_frame['amnt'] != 0.0])\n",
    "        else:\n",
    "            buf = pd.merge(buf, extract_from_df(transactions_frame[(transactions_frame['amnt'] != 0.0) & (transactions_frame['days_before'] <= slice_date)], str(slice_date) + '_'), on='app_id')\n",
    "    return buf"
   ]
  },
  {
   "cell_type": "code",
   "execution_count": 223,
   "metadata": {},
   "outputs": [
    {
     "data": {
      "application/vnd.jupyter.widget-view+json": {
       "model_id": "a3c92af47f84435e9a81f728916e04d0",
       "version_major": 2,
       "version_minor": 0
      },
      "text/plain": [
       "HBox(children=(HTML(value='Extract features in data slice'), FloatProgress(value=0.0, max=6.0), HTML(value='')…"
      ]
     },
     "metadata": {},
     "output_type": "display_data"
    },
    {
     "name": "stdout",
     "output_type": "stream",
     "text": [
      "\n"
     ]
    }
   ],
   "source": [
    "transactions_frame = extract_basic_aggregations(transactions_frame)"
   ]
  },
  {
   "cell_type": "code",
   "execution_count": 224,
   "metadata": {},
   "outputs": [
    {
     "name": "stdout",
     "output_type": "stream",
     "text": [
      "Объем памяти в RAM одной партиции данных с экспортированными фичами: 0.105 Gb\n",
      "Ожидаемый размер в RAM всего датасета: 5.249 Gb\n"
     ]
    }
   ],
   "source": [
    "memory_usage_of_frame = transactions_frame.memory_usage(index=True).sum() / 10**9\n",
    "expected_memory_usage = memory_usage_of_frame * 50\n",
    "print(f'Объем памяти в RAM одной партиции данных с экспортированными фичами: {round(memory_usage_of_frame, 3)} Gb')\n",
    "print(f'Ожидаемый размер в RAM всего датасета: {round(expected_memory_usage, 3)} Gb')"
   ]
  },
  {
   "cell_type": "code",
   "execution_count": 225,
   "metadata": {},
   "outputs": [
    {
     "data": {
      "text/html": [
       "<div>\n",
       "<style scoped>\n",
       "    .dataframe tbody tr th:only-of-type {\n",
       "        vertical-align: middle;\n",
       "    }\n",
       "\n",
       "    .dataframe tbody tr th {\n",
       "        vertical-align: top;\n",
       "    }\n",
       "\n",
       "    .dataframe thead th {\n",
       "        text-align: right;\n",
       "    }\n",
       "</style>\n",
       "<table border=\"1\" class=\"dataframe\">\n",
       "  <thead>\n",
       "    <tr style=\"text-align: right;\">\n",
       "      <th></th>\n",
       "      <th>amnt_count</th>\n",
       "      <th>amnt_std</th>\n",
       "      <th>amnt_mean</th>\n",
       "      <th>amnt_median</th>\n",
       "      <th>amnt_sum</th>\n",
       "      <th>amnt_max</th>\n",
       "      <th>amnt_min</th>\n",
       "      <th>amnt_p5</th>\n",
       "      <th>amnt_p25</th>\n",
       "      <th>amnt_p75</th>\n",
       "      <th>...</th>\n",
       "      <th>180_mcc_category_p25</th>\n",
       "      <th>180_mcc_category_p75</th>\n",
       "      <th>180_mcc_category_p95</th>\n",
       "      <th>180_hour_diff_nunique</th>\n",
       "      <th>180_hour_diff_mean</th>\n",
       "      <th>180_hour_diff_median</th>\n",
       "      <th>180_hour_diff_p5</th>\n",
       "      <th>180_hour_diff_p25</th>\n",
       "      <th>180_hour_diff_p75</th>\n",
       "      <th>180_hour_diff_p95</th>\n",
       "    </tr>\n",
       "    <tr>\n",
       "      <th>app_id</th>\n",
       "      <th></th>\n",
       "      <th></th>\n",
       "      <th></th>\n",
       "      <th></th>\n",
       "      <th></th>\n",
       "      <th></th>\n",
       "      <th></th>\n",
       "      <th></th>\n",
       "      <th></th>\n",
       "      <th></th>\n",
       "      <th></th>\n",
       "      <th></th>\n",
       "      <th></th>\n",
       "      <th></th>\n",
       "      <th></th>\n",
       "      <th></th>\n",
       "      <th></th>\n",
       "      <th></th>\n",
       "      <th></th>\n",
       "      <th></th>\n",
       "      <th></th>\n",
       "    </tr>\n",
       "  </thead>\n",
       "  <tbody>\n",
       "    <tr>\n",
       "      <th>0</th>\n",
       "      <td>181</td>\n",
       "      <td>0.094032</td>\n",
       "      <td>0.386645</td>\n",
       "      <td>0.387677</td>\n",
       "      <td>69.982751</td>\n",
       "      <td>0.609342</td>\n",
       "      <td>0.000000</td>\n",
       "      <td>0.246583</td>\n",
       "      <td>0.325579</td>\n",
       "      <td>0.451127</td>\n",
       "      <td>...</td>\n",
       "      <td>2.0</td>\n",
       "      <td>2.0</td>\n",
       "      <td>11.0</td>\n",
       "      <td>74</td>\n",
       "      <td>44.613260</td>\n",
       "      <td>20.0</td>\n",
       "      <td>0.0</td>\n",
       "      <td>1.0</td>\n",
       "      <td>52.00</td>\n",
       "      <td>166.00</td>\n",
       "    </tr>\n",
       "    <tr>\n",
       "      <th>1</th>\n",
       "      <td>356</td>\n",
       "      <td>0.078044</td>\n",
       "      <td>0.335351</td>\n",
       "      <td>0.336345</td>\n",
       "      <td>119.384783</td>\n",
       "      <td>0.578477</td>\n",
       "      <td>0.155581</td>\n",
       "      <td>0.225528</td>\n",
       "      <td>0.265272</td>\n",
       "      <td>0.387677</td>\n",
       "      <td>...</td>\n",
       "      <td>2.0</td>\n",
       "      <td>7.0</td>\n",
       "      <td>12.5</td>\n",
       "      <td>81</td>\n",
       "      <td>24.053371</td>\n",
       "      <td>14.0</td>\n",
       "      <td>0.0</td>\n",
       "      <td>1.0</td>\n",
       "      <td>26.25</td>\n",
       "      <td>74.00</td>\n",
       "    </tr>\n",
       "    <tr>\n",
       "      <th>2</th>\n",
       "      <td>229</td>\n",
       "      <td>0.087890</td>\n",
       "      <td>0.306107</td>\n",
       "      <td>0.310611</td>\n",
       "      <td>70.098407</td>\n",
       "      <td>0.496822</td>\n",
       "      <td>0.000000</td>\n",
       "      <td>0.163471</td>\n",
       "      <td>0.252813</td>\n",
       "      <td>0.357151</td>\n",
       "      <td>...</td>\n",
       "      <td>1.0</td>\n",
       "      <td>6.0</td>\n",
       "      <td>16.0</td>\n",
       "      <td>75</td>\n",
       "      <td>36.655022</td>\n",
       "      <td>13.0</td>\n",
       "      <td>0.0</td>\n",
       "      <td>2.0</td>\n",
       "      <td>27.00</td>\n",
       "      <td>189.40</td>\n",
       "    </tr>\n",
       "    <tr>\n",
       "      <th>3</th>\n",
       "      <td>67</td>\n",
       "      <td>0.098987</td>\n",
       "      <td>0.330808</td>\n",
       "      <td>0.298968</td>\n",
       "      <td>22.164130</td>\n",
       "      <td>0.572565</td>\n",
       "      <td>0.161877</td>\n",
       "      <td>0.187516</td>\n",
       "      <td>0.268158</td>\n",
       "      <td>0.400036</td>\n",
       "      <td>...</td>\n",
       "      <td>2.0</td>\n",
       "      <td>4.0</td>\n",
       "      <td>12.6</td>\n",
       "      <td>33</td>\n",
       "      <td>109.104478</td>\n",
       "      <td>4.0</td>\n",
       "      <td>0.0</td>\n",
       "      <td>0.0</td>\n",
       "      <td>33.00</td>\n",
       "      <td>665.50</td>\n",
       "    </tr>\n",
       "    <tr>\n",
       "      <th>4</th>\n",
       "      <td>117</td>\n",
       "      <td>0.128579</td>\n",
       "      <td>0.412301</td>\n",
       "      <td>0.387677</td>\n",
       "      <td>48.239197</td>\n",
       "      <td>0.646036</td>\n",
       "      <td>0.000000</td>\n",
       "      <td>0.296444</td>\n",
       "      <td>0.320248</td>\n",
       "      <td>0.516834</td>\n",
       "      <td>...</td>\n",
       "      <td>2.0</td>\n",
       "      <td>2.0</td>\n",
       "      <td>11.0</td>\n",
       "      <td>71</td>\n",
       "      <td>71.837607</td>\n",
       "      <td>35.0</td>\n",
       "      <td>0.0</td>\n",
       "      <td>0.0</td>\n",
       "      <td>113.00</td>\n",
       "      <td>268.00</td>\n",
       "    </tr>\n",
       "    <tr>\n",
       "      <th>...</th>\n",
       "      <td>...</td>\n",
       "      <td>...</td>\n",
       "      <td>...</td>\n",
       "      <td>...</td>\n",
       "      <td>...</td>\n",
       "      <td>...</td>\n",
       "      <td>...</td>\n",
       "      <td>...</td>\n",
       "      <td>...</td>\n",
       "      <td>...</td>\n",
       "      <td>...</td>\n",
       "      <td>...</td>\n",
       "      <td>...</td>\n",
       "      <td>...</td>\n",
       "      <td>...</td>\n",
       "      <td>...</td>\n",
       "      <td>...</td>\n",
       "      <td>...</td>\n",
       "      <td>...</td>\n",
       "      <td>...</td>\n",
       "      <td>...</td>\n",
       "    </tr>\n",
       "    <tr>\n",
       "      <th>23642</th>\n",
       "      <td>161</td>\n",
       "      <td>0.082391</td>\n",
       "      <td>0.423662</td>\n",
       "      <td>0.406542</td>\n",
       "      <td>68.209525</td>\n",
       "      <td>0.620993</td>\n",
       "      <td>0.219023</td>\n",
       "      <td>0.283833</td>\n",
       "      <td>0.368165</td>\n",
       "      <td>0.477944</td>\n",
       "      <td>...</td>\n",
       "      <td>1.0</td>\n",
       "      <td>9.0</td>\n",
       "      <td>18.0</td>\n",
       "      <td>88</td>\n",
       "      <td>52.639752</td>\n",
       "      <td>24.0</td>\n",
       "      <td>0.0</td>\n",
       "      <td>1.0</td>\n",
       "      <td>61.00</td>\n",
       "      <td>220.00</td>\n",
       "    </tr>\n",
       "    <tr>\n",
       "      <th>23643</th>\n",
       "      <td>199</td>\n",
       "      <td>0.096412</td>\n",
       "      <td>0.354889</td>\n",
       "      <td>0.348838</td>\n",
       "      <td>70.622863</td>\n",
       "      <td>0.561074</td>\n",
       "      <td>0.000000</td>\n",
       "      <td>0.257734</td>\n",
       "      <td>0.297589</td>\n",
       "      <td>0.406668</td>\n",
       "      <td>...</td>\n",
       "      <td>2.0</td>\n",
       "      <td>11.0</td>\n",
       "      <td>14.0</td>\n",
       "      <td>90</td>\n",
       "      <td>42.477387</td>\n",
       "      <td>15.0</td>\n",
       "      <td>0.0</td>\n",
       "      <td>0.0</td>\n",
       "      <td>65.50</td>\n",
       "      <td>163.30</td>\n",
       "    </tr>\n",
       "    <tr>\n",
       "      <th>23644</th>\n",
       "      <td>404</td>\n",
       "      <td>0.067686</td>\n",
       "      <td>0.327334</td>\n",
       "      <td>0.320248</td>\n",
       "      <td>132.242786</td>\n",
       "      <td>0.488173</td>\n",
       "      <td>0.162190</td>\n",
       "      <td>0.227991</td>\n",
       "      <td>0.278754</td>\n",
       "      <td>0.367687</td>\n",
       "      <td>...</td>\n",
       "      <td>1.0</td>\n",
       "      <td>6.0</td>\n",
       "      <td>15.0</td>\n",
       "      <td>77</td>\n",
       "      <td>20.938119</td>\n",
       "      <td>9.5</td>\n",
       "      <td>0.0</td>\n",
       "      <td>1.0</td>\n",
       "      <td>23.00</td>\n",
       "      <td>70.85</td>\n",
       "    </tr>\n",
       "    <tr>\n",
       "      <th>23645</th>\n",
       "      <td>197</td>\n",
       "      <td>0.079493</td>\n",
       "      <td>0.381171</td>\n",
       "      <td>0.367607</td>\n",
       "      <td>75.090673</td>\n",
       "      <td>0.646036</td>\n",
       "      <td>0.214840</td>\n",
       "      <td>0.272874</td>\n",
       "      <td>0.327250</td>\n",
       "      <td>0.419882</td>\n",
       "      <td>...</td>\n",
       "      <td>1.0</td>\n",
       "      <td>7.0</td>\n",
       "      <td>14.0</td>\n",
       "      <td>56</td>\n",
       "      <td>41.898477</td>\n",
       "      <td>6.0</td>\n",
       "      <td>0.0</td>\n",
       "      <td>2.0</td>\n",
       "      <td>20.00</td>\n",
       "      <td>219.20</td>\n",
       "    </tr>\n",
       "    <tr>\n",
       "      <th>23646</th>\n",
       "      <td>457</td>\n",
       "      <td>0.087115</td>\n",
       "      <td>0.313265</td>\n",
       "      <td>0.320248</td>\n",
       "      <td>143.162159</td>\n",
       "      <td>0.619662</td>\n",
       "      <td>0.000000</td>\n",
       "      <td>0.158302</td>\n",
       "      <td>0.258972</td>\n",
       "      <td>0.373100</td>\n",
       "      <td>...</td>\n",
       "      <td>1.0</td>\n",
       "      <td>2.0</td>\n",
       "      <td>11.0</td>\n",
       "      <td>81</td>\n",
       "      <td>18.763676</td>\n",
       "      <td>8.0</td>\n",
       "      <td>0.0</td>\n",
       "      <td>0.0</td>\n",
       "      <td>23.00</td>\n",
       "      <td>68.60</td>\n",
       "    </tr>\n",
       "  </tbody>\n",
       "</table>\n",
       "<p>22743 rows × 576 columns</p>\n",
       "</div>"
      ],
      "text/plain": [
       "        amnt_count  amnt_std  amnt_mean  amnt_median    amnt_sum  amnt_max  \\\n",
       "app_id                                                                       \n",
       "0              181  0.094032   0.386645     0.387677   69.982751  0.609342   \n",
       "1              356  0.078044   0.335351     0.336345  119.384783  0.578477   \n",
       "2              229  0.087890   0.306107     0.310611   70.098407  0.496822   \n",
       "3               67  0.098987   0.330808     0.298968   22.164130  0.572565   \n",
       "4              117  0.128579   0.412301     0.387677   48.239197  0.646036   \n",
       "...            ...       ...        ...          ...         ...       ...   \n",
       "23642          161  0.082391   0.423662     0.406542   68.209525  0.620993   \n",
       "23643          199  0.096412   0.354889     0.348838   70.622863  0.561074   \n",
       "23644          404  0.067686   0.327334     0.320248  132.242786  0.488173   \n",
       "23645          197  0.079493   0.381171     0.367607   75.090673  0.646036   \n",
       "23646          457  0.087115   0.313265     0.320248  143.162159  0.619662   \n",
       "\n",
       "        amnt_min   amnt_p5  amnt_p25  amnt_p75  ...  180_mcc_category_p25  \\\n",
       "app_id                                          ...                         \n",
       "0       0.000000  0.246583  0.325579  0.451127  ...                   2.0   \n",
       "1       0.155581  0.225528  0.265272  0.387677  ...                   2.0   \n",
       "2       0.000000  0.163471  0.252813  0.357151  ...                   1.0   \n",
       "3       0.161877  0.187516  0.268158  0.400036  ...                   2.0   \n",
       "4       0.000000  0.296444  0.320248  0.516834  ...                   2.0   \n",
       "...          ...       ...       ...       ...  ...                   ...   \n",
       "23642   0.219023  0.283833  0.368165  0.477944  ...                   1.0   \n",
       "23643   0.000000  0.257734  0.297589  0.406668  ...                   2.0   \n",
       "23644   0.162190  0.227991  0.278754  0.367687  ...                   1.0   \n",
       "23645   0.214840  0.272874  0.327250  0.419882  ...                   1.0   \n",
       "23646   0.000000  0.158302  0.258972  0.373100  ...                   1.0   \n",
       "\n",
       "        180_mcc_category_p75  180_mcc_category_p95  180_hour_diff_nunique  \\\n",
       "app_id                                                                      \n",
       "0                        2.0                  11.0                     74   \n",
       "1                        7.0                  12.5                     81   \n",
       "2                        6.0                  16.0                     75   \n",
       "3                        4.0                  12.6                     33   \n",
       "4                        2.0                  11.0                     71   \n",
       "...                      ...                   ...                    ...   \n",
       "23642                    9.0                  18.0                     88   \n",
       "23643                   11.0                  14.0                     90   \n",
       "23644                    6.0                  15.0                     77   \n",
       "23645                    7.0                  14.0                     56   \n",
       "23646                    2.0                  11.0                     81   \n",
       "\n",
       "        180_hour_diff_mean  180_hour_diff_median  180_hour_diff_p5  \\\n",
       "app_id                                                               \n",
       "0                44.613260                  20.0               0.0   \n",
       "1                24.053371                  14.0               0.0   \n",
       "2                36.655022                  13.0               0.0   \n",
       "3               109.104478                   4.0               0.0   \n",
       "4                71.837607                  35.0               0.0   \n",
       "...                    ...                   ...               ...   \n",
       "23642            52.639752                  24.0               0.0   \n",
       "23643            42.477387                  15.0               0.0   \n",
       "23644            20.938119                   9.5               0.0   \n",
       "23645            41.898477                   6.0               0.0   \n",
       "23646            18.763676                   8.0               0.0   \n",
       "\n",
       "        180_hour_diff_p25  180_hour_diff_p75  180_hour_diff_p95  \n",
       "app_id                                                           \n",
       "0                     1.0              52.00             166.00  \n",
       "1                     1.0              26.25              74.00  \n",
       "2                     2.0              27.00             189.40  \n",
       "3                     0.0              33.00             665.50  \n",
       "4                     0.0             113.00             268.00  \n",
       "...                   ...                ...                ...  \n",
       "23642                 1.0              61.00             220.00  \n",
       "23643                 0.0              65.50             163.30  \n",
       "23644                 1.0              23.00              70.85  \n",
       "23645                 2.0              20.00             219.20  \n",
       "23646                 0.0              23.00              68.60  \n",
       "\n",
       "[22743 rows x 576 columns]"
      ]
     },
     "execution_count": 225,
     "metadata": {},
     "output_type": "execute_result"
    }
   ],
   "source": [
    "transactions_frame"
   ]
  },
  {
   "cell_type": "code",
   "execution_count": 226,
   "metadata": {},
   "outputs": [
    {
     "data": {
      "text/plain": [
       "378"
      ]
     },
     "execution_count": 226,
     "metadata": {},
     "output_type": "execute_result"
    }
   ],
   "source": [
    "del transactions_frame\n",
    "gc.collect()"
   ]
  },
  {
   "cell_type": "code",
   "execution_count": 6,
   "metadata": {},
   "outputs": [],
   "source": [
    "def prepare_transactions_dataset(path_to_dataset: str, targets: pd.DataFrame, num_parts_to_preprocess_at_once: int = 1, num_parts_total: int=50, \n",
    "                                 save_to_path=None, verbose: bool=False):\n",
    "    \"\"\"\n",
    "    возвращает готовый pd.DataFrame с признаками, на которых можно учить модель для целевой задачи.\n",
    "    path_to_dataset: str  \n",
    "        путь до датасета с партициями\n",
    "    num_parts_to_preprocess_at_once: int \n",
    "        количество партиций, которые будут одновременно держаться в памяти и обрабатываться\n",
    "    num_parts_total: int \n",
    "        общее количество партиций, которые нужно обработать\n",
    "    save_to_path: str\n",
    "        путь до папки, в которой будет сохранен каждый обработанный блок в .parquet формате. Если None, то не будет сохранен \n",
    "    verbose: bool\n",
    "        логирует каждый обрабатываемый кусок данных\n",
    "    \"\"\"\n",
    "    preprocessed_frames = []\n",
    "    block = 0\n",
    "    for step in tqdm(range(0, num_parts_total, num_parts_to_preprocess_at_once), \n",
    "                                   desc=\"Transforming transactions data\"):\n",
    "        transactions_frame = read_parquet_dataset_from_local(path_to_dataset, step, num_parts_to_preprocess_at_once, \n",
    "                                                             verbose=verbose)\n",
    "        features = extract_basic_aggregations(transactions_frame).merge(targets, how='left', on=['app_id'])\n",
    "        if save_to_path:\n",
    "            block_as_str = str(block)\n",
    "            block += 1\n",
    "            if len(block_as_str) == 1:\n",
    "                block_as_str = '00' + block_as_str\n",
    "            else:\n",
    "                block_as_str = '0' + block_as_str\n",
    "            features.to_parquet(os.path.join(save_to_path, f'processed_chunk_{block_as_str}.parquet'))\n",
    "            \n",
    "        preprocessed_frames.append(features)\n",
    "    return pd.concat(preprocessed_frames)"
   ]
  },
  {
   "cell_type": "code",
   "execution_count": 7,
   "metadata": {},
   "outputs": [],
   "source": [
    "targets = pd.read_csv(TRAIN_TARGET_PATH)"
   ]
  },
  {
   "cell_type": "code",
   "execution_count": 233,
   "metadata": {},
   "outputs": [
    {
     "data": {
      "application/vnd.jupyter.widget-view+json": {
       "model_id": "e571b65ec1bd427bae6426595c38df6c",
       "version_major": 2,
       "version_minor": 0
      },
      "text/plain": [
       "HBox(children=(HTML(value='Transforming transactions data'), FloatProgress(value=0.0, max=10.0), HTML(value=''…"
      ]
     },
     "metadata": {},
     "output_type": "display_data"
    },
    {
     "data": {
      "application/vnd.jupyter.widget-view+json": {
       "model_id": "471dc0b6451e45f29d4d6b5e106aac97",
       "version_major": 2,
       "version_minor": 0
      },
      "text/plain": [
       "HBox(children=(HTML(value='Reading dataset with pandas'), FloatProgress(value=0.0, max=5.0), HTML(value='')))"
      ]
     },
     "metadata": {},
     "output_type": "display_data"
    },
    {
     "name": "stdout",
     "output_type": "stream",
     "text": [
      "\n"
     ]
    },
    {
     "data": {
      "application/vnd.jupyter.widget-view+json": {
       "model_id": "6fd821b651e84d8e88e78aab3ed95543",
       "version_major": 2,
       "version_minor": 0
      },
      "text/plain": [
       "HBox(children=(HTML(value='Extract features in data slice'), FloatProgress(value=0.0, max=6.0), HTML(value='')…"
      ]
     },
     "metadata": {},
     "output_type": "display_data"
    },
    {
     "name": "stdout",
     "output_type": "stream",
     "text": [
      "\n"
     ]
    },
    {
     "data": {
      "application/vnd.jupyter.widget-view+json": {
       "model_id": "84fc0b6b09a847bba68a17d7d3c760ad",
       "version_major": 2,
       "version_minor": 0
      },
      "text/plain": [
       "HBox(children=(HTML(value='Reading dataset with pandas'), FloatProgress(value=0.0, max=5.0), HTML(value='')))"
      ]
     },
     "metadata": {},
     "output_type": "display_data"
    },
    {
     "name": "stdout",
     "output_type": "stream",
     "text": [
      "\n"
     ]
    },
    {
     "data": {
      "application/vnd.jupyter.widget-view+json": {
       "model_id": "02a786d5fb934955a965e54b2863bab1",
       "version_major": 2,
       "version_minor": 0
      },
      "text/plain": [
       "HBox(children=(HTML(value='Extract features in data slice'), FloatProgress(value=0.0, max=6.0), HTML(value='')…"
      ]
     },
     "metadata": {},
     "output_type": "display_data"
    },
    {
     "name": "stdout",
     "output_type": "stream",
     "text": [
      "\n"
     ]
    },
    {
     "data": {
      "application/vnd.jupyter.widget-view+json": {
       "model_id": "050e34d501754acf997d9aa0e36ec53f",
       "version_major": 2,
       "version_minor": 0
      },
      "text/plain": [
       "HBox(children=(HTML(value='Reading dataset with pandas'), FloatProgress(value=0.0, max=5.0), HTML(value='')))"
      ]
     },
     "metadata": {},
     "output_type": "display_data"
    },
    {
     "name": "stdout",
     "output_type": "stream",
     "text": [
      "\n"
     ]
    },
    {
     "data": {
      "application/vnd.jupyter.widget-view+json": {
       "model_id": "f90f107fff8e46e5889be38b21f670ef",
       "version_major": 2,
       "version_minor": 0
      },
      "text/plain": [
       "HBox(children=(HTML(value='Extract features in data slice'), FloatProgress(value=0.0, max=6.0), HTML(value='')…"
      ]
     },
     "metadata": {},
     "output_type": "display_data"
    },
    {
     "name": "stdout",
     "output_type": "stream",
     "text": [
      "\n"
     ]
    },
    {
     "data": {
      "application/vnd.jupyter.widget-view+json": {
       "model_id": "b3bed1e1c54a492393ccbfce3dc56aea",
       "version_major": 2,
       "version_minor": 0
      },
      "text/plain": [
       "HBox(children=(HTML(value='Reading dataset with pandas'), FloatProgress(value=0.0, max=5.0), HTML(value='')))"
      ]
     },
     "metadata": {},
     "output_type": "display_data"
    },
    {
     "name": "stdout",
     "output_type": "stream",
     "text": [
      "\n"
     ]
    },
    {
     "data": {
      "application/vnd.jupyter.widget-view+json": {
       "model_id": "0201d93e29b649d49bcda93aeffd965a",
       "version_major": 2,
       "version_minor": 0
      },
      "text/plain": [
       "HBox(children=(HTML(value='Extract features in data slice'), FloatProgress(value=0.0, max=6.0), HTML(value='')…"
      ]
     },
     "metadata": {},
     "output_type": "display_data"
    },
    {
     "name": "stdout",
     "output_type": "stream",
     "text": [
      "\n"
     ]
    },
    {
     "data": {
      "application/vnd.jupyter.widget-view+json": {
       "model_id": "f6f9ba5e027846b8a4d0210392959884",
       "version_major": 2,
       "version_minor": 0
      },
      "text/plain": [
       "HBox(children=(HTML(value='Reading dataset with pandas'), FloatProgress(value=0.0, max=5.0), HTML(value='')))"
      ]
     },
     "metadata": {},
     "output_type": "display_data"
    },
    {
     "name": "stdout",
     "output_type": "stream",
     "text": [
      "\n"
     ]
    },
    {
     "data": {
      "application/vnd.jupyter.widget-view+json": {
       "model_id": "facb9c6bc2e34a3fb95c815bcbe724c7",
       "version_major": 2,
       "version_minor": 0
      },
      "text/plain": [
       "HBox(children=(HTML(value='Extract features in data slice'), FloatProgress(value=0.0, max=6.0), HTML(value='')…"
      ]
     },
     "metadata": {},
     "output_type": "display_data"
    },
    {
     "name": "stdout",
     "output_type": "stream",
     "text": [
      "\n"
     ]
    },
    {
     "data": {
      "application/vnd.jupyter.widget-view+json": {
       "model_id": "837a2083d2684cedbd73c132ef61588c",
       "version_major": 2,
       "version_minor": 0
      },
      "text/plain": [
       "HBox(children=(HTML(value='Reading dataset with pandas'), FloatProgress(value=0.0, max=5.0), HTML(value='')))"
      ]
     },
     "metadata": {},
     "output_type": "display_data"
    },
    {
     "name": "stdout",
     "output_type": "stream",
     "text": [
      "\n"
     ]
    },
    {
     "data": {
      "application/vnd.jupyter.widget-view+json": {
       "model_id": "2d5541c796284b5ea38a9d7b69914047",
       "version_major": 2,
       "version_minor": 0
      },
      "text/plain": [
       "HBox(children=(HTML(value='Extract features in data slice'), FloatProgress(value=0.0, max=6.0), HTML(value='')…"
      ]
     },
     "metadata": {},
     "output_type": "display_data"
    },
    {
     "name": "stdout",
     "output_type": "stream",
     "text": [
      "\n"
     ]
    },
    {
     "data": {
      "application/vnd.jupyter.widget-view+json": {
       "model_id": "a6974f6e3c7f41c0a9f1650f3aede584",
       "version_major": 2,
       "version_minor": 0
      },
      "text/plain": [
       "HBox(children=(HTML(value='Reading dataset with pandas'), FloatProgress(value=0.0, max=5.0), HTML(value='')))"
      ]
     },
     "metadata": {},
     "output_type": "display_data"
    },
    {
     "name": "stdout",
     "output_type": "stream",
     "text": [
      "\n"
     ]
    },
    {
     "data": {
      "application/vnd.jupyter.widget-view+json": {
       "model_id": "22f8eee7033f44538691c12820928439",
       "version_major": 2,
       "version_minor": 0
      },
      "text/plain": [
       "HBox(children=(HTML(value='Extract features in data slice'), FloatProgress(value=0.0, max=6.0), HTML(value='')…"
      ]
     },
     "metadata": {},
     "output_type": "display_data"
    },
    {
     "name": "stdout",
     "output_type": "stream",
     "text": [
      "\n"
     ]
    },
    {
     "data": {
      "application/vnd.jupyter.widget-view+json": {
       "model_id": "1d363259b59a4521923983d226b8ed57",
       "version_major": 2,
       "version_minor": 0
      },
      "text/plain": [
       "HBox(children=(HTML(value='Reading dataset with pandas'), FloatProgress(value=0.0, max=5.0), HTML(value='')))"
      ]
     },
     "metadata": {},
     "output_type": "display_data"
    },
    {
     "name": "stdout",
     "output_type": "stream",
     "text": [
      "\n"
     ]
    },
    {
     "data": {
      "application/vnd.jupyter.widget-view+json": {
       "model_id": "daecdf53b99148d1b1a33a5a2a63776c",
       "version_major": 2,
       "version_minor": 0
      },
      "text/plain": [
       "HBox(children=(HTML(value='Extract features in data slice'), FloatProgress(value=0.0, max=6.0), HTML(value='')…"
      ]
     },
     "metadata": {},
     "output_type": "display_data"
    },
    {
     "name": "stdout",
     "output_type": "stream",
     "text": [
      "\n"
     ]
    },
    {
     "data": {
      "application/vnd.jupyter.widget-view+json": {
       "model_id": "621d69c09e34483c9d0dbde491b29614",
       "version_major": 2,
       "version_minor": 0
      },
      "text/plain": [
       "HBox(children=(HTML(value='Reading dataset with pandas'), FloatProgress(value=0.0, max=5.0), HTML(value='')))"
      ]
     },
     "metadata": {},
     "output_type": "display_data"
    },
    {
     "name": "stdout",
     "output_type": "stream",
     "text": [
      "\n"
     ]
    },
    {
     "data": {
      "application/vnd.jupyter.widget-view+json": {
       "model_id": "424c45d68680426f9d75466be3770705",
       "version_major": 2,
       "version_minor": 0
      },
      "text/plain": [
       "HBox(children=(HTML(value='Extract features in data slice'), FloatProgress(value=0.0, max=6.0), HTML(value='')…"
      ]
     },
     "metadata": {},
     "output_type": "display_data"
    },
    {
     "name": "stdout",
     "output_type": "stream",
     "text": [
      "\n"
     ]
    },
    {
     "data": {
      "application/vnd.jupyter.widget-view+json": {
       "model_id": "6b8a5ae867d445bb85bae0abb4bab9da",
       "version_major": 2,
       "version_minor": 0
      },
      "text/plain": [
       "HBox(children=(HTML(value='Reading dataset with pandas'), FloatProgress(value=0.0, max=5.0), HTML(value='')))"
      ]
     },
     "metadata": {},
     "output_type": "display_data"
    },
    {
     "name": "stdout",
     "output_type": "stream",
     "text": [
      "\n"
     ]
    },
    {
     "data": {
      "application/vnd.jupyter.widget-view+json": {
       "model_id": "08039d1e312a452497436df8b6247391",
       "version_major": 2,
       "version_minor": 0
      },
      "text/plain": [
       "HBox(children=(HTML(value='Extract features in data slice'), FloatProgress(value=0.0, max=6.0), HTML(value='')…"
      ]
     },
     "metadata": {},
     "output_type": "display_data"
    },
    {
     "name": "stdout",
     "output_type": "stream",
     "text": [
      "\n",
      "\n"
     ]
    }
   ],
   "source": [
    "data = prepare_transactions_dataset(TRAIN_TRANSACTIONS_PATH, targets[['app_id', 'product', 'flag']], num_parts_to_preprocess_at_once=5, num_parts_total=50, \n",
    "                                    save_to_path='./preprocessed_transactions/')"
   ]
  },
  {
   "cell_type": "code",
   "execution_count": 235,
   "metadata": {},
   "outputs": [],
   "source": [
    "data.to_csv('merged_data.csv', index=False)"
   ]
  },
  {
   "cell_type": "code",
   "execution_count": null,
   "metadata": {},
   "outputs": [],
   "source": []
  },
  {
   "cell_type": "code",
   "execution_count": 8,
   "metadata": {},
   "outputs": [],
   "source": [
    "TEST_TARGET_PATH = './alfabattle2_test_target_contest.csv'\n",
    "test_target =  pd.read_csv(TEST_TARGET_PATH)"
   ]
  },
  {
   "cell_type": "code",
   "execution_count": 237,
   "metadata": {},
   "outputs": [
    {
     "data": {
      "application/vnd.jupyter.widget-view+json": {
       "model_id": "27ce7878509d48c7aa30975768506169",
       "version_major": 2,
       "version_minor": 0
      },
      "text/plain": [
       "HBox(children=(HTML(value='Transforming transactions data'), FloatProgress(value=0.0, max=10.0), HTML(value=''…"
      ]
     },
     "metadata": {},
     "output_type": "display_data"
    },
    {
     "data": {
      "application/vnd.jupyter.widget-view+json": {
       "model_id": "6f46969d867547bc87331462fe1131d5",
       "version_major": 2,
       "version_minor": 0
      },
      "text/plain": [
       "HBox(children=(HTML(value='Reading dataset with pandas'), FloatProgress(value=0.0, max=5.0), HTML(value='')))"
      ]
     },
     "metadata": {},
     "output_type": "display_data"
    },
    {
     "name": "stdout",
     "output_type": "stream",
     "text": [
      "\n"
     ]
    },
    {
     "data": {
      "application/vnd.jupyter.widget-view+json": {
       "model_id": "779c06defccb4e1e976397afd9d1960d",
       "version_major": 2,
       "version_minor": 0
      },
      "text/plain": [
       "HBox(children=(HTML(value='Extract features in data slice'), FloatProgress(value=0.0, max=6.0), HTML(value='')…"
      ]
     },
     "metadata": {},
     "output_type": "display_data"
    },
    {
     "name": "stdout",
     "output_type": "stream",
     "text": [
      "\n"
     ]
    },
    {
     "data": {
      "application/vnd.jupyter.widget-view+json": {
       "model_id": "5c1e87afddaa48d19b172a7a1dc22b87",
       "version_major": 2,
       "version_minor": 0
      },
      "text/plain": [
       "HBox(children=(HTML(value='Reading dataset with pandas'), FloatProgress(value=0.0, max=5.0), HTML(value='')))"
      ]
     },
     "metadata": {},
     "output_type": "display_data"
    },
    {
     "name": "stdout",
     "output_type": "stream",
     "text": [
      "\n"
     ]
    },
    {
     "data": {
      "application/vnd.jupyter.widget-view+json": {
       "model_id": "264d155af67d4191bd24da456aaf0864",
       "version_major": 2,
       "version_minor": 0
      },
      "text/plain": [
       "HBox(children=(HTML(value='Extract features in data slice'), FloatProgress(value=0.0, max=6.0), HTML(value='')…"
      ]
     },
     "metadata": {},
     "output_type": "display_data"
    },
    {
     "name": "stdout",
     "output_type": "stream",
     "text": [
      "\n"
     ]
    },
    {
     "data": {
      "application/vnd.jupyter.widget-view+json": {
       "model_id": "24fcf99cc70d4999a64f9de28ab0ef00",
       "version_major": 2,
       "version_minor": 0
      },
      "text/plain": [
       "HBox(children=(HTML(value='Reading dataset with pandas'), FloatProgress(value=0.0, max=5.0), HTML(value='')))"
      ]
     },
     "metadata": {},
     "output_type": "display_data"
    },
    {
     "name": "stdout",
     "output_type": "stream",
     "text": [
      "\n"
     ]
    },
    {
     "data": {
      "application/vnd.jupyter.widget-view+json": {
       "model_id": "914a7cdc5834401eaff281a9dcde51e4",
       "version_major": 2,
       "version_minor": 0
      },
      "text/plain": [
       "HBox(children=(HTML(value='Extract features in data slice'), FloatProgress(value=0.0, max=6.0), HTML(value='')…"
      ]
     },
     "metadata": {},
     "output_type": "display_data"
    },
    {
     "name": "stdout",
     "output_type": "stream",
     "text": [
      "\n"
     ]
    },
    {
     "data": {
      "application/vnd.jupyter.widget-view+json": {
       "model_id": "a43a7b4608d649bd8799bdbb6bd3cbaf",
       "version_major": 2,
       "version_minor": 0
      },
      "text/plain": [
       "HBox(children=(HTML(value='Reading dataset with pandas'), FloatProgress(value=0.0, max=5.0), HTML(value='')))"
      ]
     },
     "metadata": {},
     "output_type": "display_data"
    },
    {
     "name": "stdout",
     "output_type": "stream",
     "text": [
      "\n"
     ]
    },
    {
     "data": {
      "application/vnd.jupyter.widget-view+json": {
       "model_id": "bb89bcf532e34303b3d47378eeb9f491",
       "version_major": 2,
       "version_minor": 0
      },
      "text/plain": [
       "HBox(children=(HTML(value='Extract features in data slice'), FloatProgress(value=0.0, max=6.0), HTML(value='')…"
      ]
     },
     "metadata": {},
     "output_type": "display_data"
    },
    {
     "name": "stdout",
     "output_type": "stream",
     "text": [
      "\n"
     ]
    },
    {
     "data": {
      "application/vnd.jupyter.widget-view+json": {
       "model_id": "ad7e070bee254d28807975f79a0cd542",
       "version_major": 2,
       "version_minor": 0
      },
      "text/plain": [
       "HBox(children=(HTML(value='Reading dataset with pandas'), FloatProgress(value=0.0, max=5.0), HTML(value='')))"
      ]
     },
     "metadata": {},
     "output_type": "display_data"
    },
    {
     "name": "stdout",
     "output_type": "stream",
     "text": [
      "\n"
     ]
    },
    {
     "data": {
      "application/vnd.jupyter.widget-view+json": {
       "model_id": "9d844257974c4c4db52131a94f53e536",
       "version_major": 2,
       "version_minor": 0
      },
      "text/plain": [
       "HBox(children=(HTML(value='Extract features in data slice'), FloatProgress(value=0.0, max=6.0), HTML(value='')…"
      ]
     },
     "metadata": {},
     "output_type": "display_data"
    },
    {
     "name": "stdout",
     "output_type": "stream",
     "text": [
      "\n"
     ]
    },
    {
     "data": {
      "application/vnd.jupyter.widget-view+json": {
       "model_id": "1e4fba57e6c244b9b4ad26ae2774ad59",
       "version_major": 2,
       "version_minor": 0
      },
      "text/plain": [
       "HBox(children=(HTML(value='Reading dataset with pandas'), FloatProgress(value=0.0, max=5.0), HTML(value='')))"
      ]
     },
     "metadata": {},
     "output_type": "display_data"
    },
    {
     "name": "stdout",
     "output_type": "stream",
     "text": [
      "\n"
     ]
    },
    {
     "data": {
      "application/vnd.jupyter.widget-view+json": {
       "model_id": "2c0fc8f7be954f4aa0a22cea49480111",
       "version_major": 2,
       "version_minor": 0
      },
      "text/plain": [
       "HBox(children=(HTML(value='Extract features in data slice'), FloatProgress(value=0.0, max=6.0), HTML(value='')…"
      ]
     },
     "metadata": {},
     "output_type": "display_data"
    },
    {
     "name": "stdout",
     "output_type": "stream",
     "text": [
      "\n"
     ]
    },
    {
     "data": {
      "application/vnd.jupyter.widget-view+json": {
       "model_id": "49c689f7b8af4e78a7611aea857fbc0f",
       "version_major": 2,
       "version_minor": 0
      },
      "text/plain": [
       "HBox(children=(HTML(value='Reading dataset with pandas'), FloatProgress(value=0.0, max=5.0), HTML(value='')))"
      ]
     },
     "metadata": {},
     "output_type": "display_data"
    },
    {
     "name": "stdout",
     "output_type": "stream",
     "text": [
      "\n"
     ]
    },
    {
     "data": {
      "application/vnd.jupyter.widget-view+json": {
       "model_id": "4ee31e604e3e4ec0927bfd8ecab8e08b",
       "version_major": 2,
       "version_minor": 0
      },
      "text/plain": [
       "HBox(children=(HTML(value='Extract features in data slice'), FloatProgress(value=0.0, max=6.0), HTML(value='')…"
      ]
     },
     "metadata": {},
     "output_type": "display_data"
    },
    {
     "name": "stdout",
     "output_type": "stream",
     "text": [
      "\n"
     ]
    },
    {
     "data": {
      "application/vnd.jupyter.widget-view+json": {
       "model_id": "e2bd024f10664d7e8ed4d062485fd850",
       "version_major": 2,
       "version_minor": 0
      },
      "text/plain": [
       "HBox(children=(HTML(value='Reading dataset with pandas'), FloatProgress(value=0.0, max=5.0), HTML(value='')))"
      ]
     },
     "metadata": {},
     "output_type": "display_data"
    },
    {
     "name": "stdout",
     "output_type": "stream",
     "text": [
      "\n"
     ]
    },
    {
     "data": {
      "application/vnd.jupyter.widget-view+json": {
       "model_id": "fac2fe92be044112915cbe860aa96131",
       "version_major": 2,
       "version_minor": 0
      },
      "text/plain": [
       "HBox(children=(HTML(value='Extract features in data slice'), FloatProgress(value=0.0, max=6.0), HTML(value='')…"
      ]
     },
     "metadata": {},
     "output_type": "display_data"
    },
    {
     "name": "stdout",
     "output_type": "stream",
     "text": [
      "\n"
     ]
    },
    {
     "data": {
      "application/vnd.jupyter.widget-view+json": {
       "model_id": "421567893a7d41c68bdfbf453642f965",
       "version_major": 2,
       "version_minor": 0
      },
      "text/plain": [
       "HBox(children=(HTML(value='Reading dataset with pandas'), FloatProgress(value=0.0, max=5.0), HTML(value='')))"
      ]
     },
     "metadata": {},
     "output_type": "display_data"
    },
    {
     "name": "stdout",
     "output_type": "stream",
     "text": [
      "\n"
     ]
    },
    {
     "data": {
      "application/vnd.jupyter.widget-view+json": {
       "model_id": "a6d1bb7d21c74af5a205081eac10ee18",
       "version_major": 2,
       "version_minor": 0
      },
      "text/plain": [
       "HBox(children=(HTML(value='Extract features in data slice'), FloatProgress(value=0.0, max=6.0), HTML(value='')…"
      ]
     },
     "metadata": {},
     "output_type": "display_data"
    },
    {
     "name": "stdout",
     "output_type": "stream",
     "text": [
      "\n"
     ]
    },
    {
     "data": {
      "application/vnd.jupyter.widget-view+json": {
       "model_id": "ee08362d881c48e6b2b9a705e2eada71",
       "version_major": 2,
       "version_minor": 0
      },
      "text/plain": [
       "HBox(children=(HTML(value='Reading dataset with pandas'), FloatProgress(value=0.0, max=5.0), HTML(value='')))"
      ]
     },
     "metadata": {},
     "output_type": "display_data"
    },
    {
     "name": "stdout",
     "output_type": "stream",
     "text": [
      "\n"
     ]
    },
    {
     "data": {
      "application/vnd.jupyter.widget-view+json": {
       "model_id": "6662b4e09cf244889f3006aedb112691",
       "version_major": 2,
       "version_minor": 0
      },
      "text/plain": [
       "HBox(children=(HTML(value='Extract features in data slice'), FloatProgress(value=0.0, max=6.0), HTML(value='')…"
      ]
     },
     "metadata": {},
     "output_type": "display_data"
    },
    {
     "name": "stdout",
     "output_type": "stream",
     "text": [
      "\n",
      "\n"
     ]
    }
   ],
   "source": [
    "test_data = prepare_transactions_dataset(TEST_TRANSACTIONS_PATH, test_target[['app_id', 'product']], num_parts_to_preprocess_at_once=5, num_parts_total=50, \n",
    "                                         save_to_path='./preprocessed_test_transactions/')"
   ]
  },
  {
   "cell_type": "code",
   "execution_count": 238,
   "metadata": {},
   "outputs": [],
   "source": [
    "test_data.to_csv('merged_test_data.csv', index=False)"
   ]
  },
  {
   "cell_type": "code",
   "execution_count": 9,
   "metadata": {},
   "outputs": [],
   "source": [
    "data = pd.read_csv('merged_data.csv')\n",
    "test_data = pd.read_csv('merged_test_data.csv')"
   ]
  },
  {
   "cell_type": "code",
   "execution_count": 10,
   "metadata": {},
   "outputs": [],
   "source": [
    "test_data.drop(['product'], axis=1, inplace=True)\n",
    "test_data = test_data.merge(test_target[['app_id', 'product']], on='app_id', how='right')\n",
    "\n",
    "data.drop(['product', 'flag'], axis=1, inplace=True)\n",
    "data = data.merge(targets[['app_id', 'product', 'flag']], on='app_id', how='right')"
   ]
  },
  {
   "cell_type": "code",
   "execution_count": 11,
   "metadata": {},
   "outputs": [],
   "source": [
    "# Разделяем обучающую выборку по результату\n"
   ]
  },
  {
   "cell_type": "code",
   "execution_count": 12,
   "metadata": {},
   "outputs": [],
   "source": [
    "data.fillna(0, inplace=True)"
   ]
  },
  {
   "cell_type": "code",
   "execution_count": 33,
   "metadata": {},
   "outputs": [],
   "source": [
    "from sklearn.metrics import roc_auc_score\n",
    "from sklearn.model_selection import train_test_split, StratifiedKFold, KFold\n",
    "from sklearn.linear_model import RidgeClassifier\n",
    "from catboost import CatBoostClassifier, Pool, cv"
   ]
  },
  {
   "cell_type": "code",
   "execution_count": null,
   "metadata": {},
   "outputs": [],
   "source": [
    "neptune.create_experiment(name='CatBoostClassifier', upload_source_files=['main.ipynb'])"
   ]
  },
  {
   "cell_type": "code",
   "execution_count": 40,
   "metadata": {},
   "outputs": [],
   "source": [
    "def fitModel(data: pd.DataFrame):\n",
    "    #X_train, X_test, y_train, y_test = train_test_split(data.drop(['flag'], axis=1), data['flag'], test_size=.3,\n",
    "    #                                                    random_state=6)\n",
    "    #model = CatBoostClassifier(random_seed=6, logging_level='Silent').fit(X_train, y_train, logging_level='Verbose', eval_set=(X_test, y_test), plot=True)\n",
    "    \n",
    "    #y_pred = model.predict(X_test)\n",
    "    \n",
    "    features = [x for x in data.columns if x not in ['app_id', 'flag']]\n",
    "    targets = data.flag.values\n",
    "\n",
    "    cv = KFold(n_splits=5, random_state=100, shuffle=True)\n",
    "\n",
    "    oof = np.zeros(len(data))\n",
    "    train_preds = np.zeros(len(data))\n",
    "\n",
    "    models = []\n",
    "\n",
    "\n",
    "    tree_params = {\n",
    "        'max_depth': 10,\n",
    "        'eval_metric': 'AUC',\n",
    "        'loss_function': 'Logloss',\n",
    "        'random_state': 100,\n",
    "        'l2_leaf_reg': 1,\n",
    "    }\n",
    "\n",
    "\n",
    "    for fold_, (train_idx, val_idx) in enumerate(cv.split(data, targets), 1):\n",
    "        print(f'Training with fold {fold_} started.')\n",
    "        model = cb.CatBoostClassifier(**tree_params)    \n",
    "\n",
    "        train, val = data.iloc[train_idx], data.iloc[val_idx]\n",
    "\n",
    "        train_pool = cb.Pool(train[features], train.flag.values)\n",
    "        val_pool = cb.Pool(val[features], val.flag.values)\n",
    "\n",
    "\n",
    "        model.fit(train_pool, eval_set=[val_pool], early_stopping_rounds=100, verbose_eval=50, use_best_model=True, plot=False)\n",
    "\n",
    "        oof[val_idx] = model.predict_proba(val_pool)[:, 1]\n",
    "\n",
    "        train_preds[train_idx] += model.predict_proba(train_pool)[:, 1] / (cv.n_splits-1)\n",
    "        models.append(model)\n",
    "        print(f'Training with fold {fold_} completed.')\n",
    "    \n",
    "    \n",
    "    metrics = roc_auc_score(y_test, train_preds)\n",
    "    print(metrics)\n",
    "    neptune.log_metric('roc_auc_score', metrics)\n",
    "    return models"
   ]
  },
  {
   "cell_type": "code",
   "execution_count": null,
   "metadata": {},
   "outputs": [
    {
     "name": "stdout",
     "output_type": "stream",
     "text": [
      "Training with fold 1 started.\n",
      "0:\ttest: 0.5884239\tbest: 0.5884239 (0)\ttotal: 3.26s\tremaining: 54m 15s\n",
      "50:\ttest: 0.7126339\tbest: 0.7126339 (50)\ttotal: 2m 52s\tremaining: 53m 33s\n",
      "100:\ttest: 0.7294661\tbest: 0.7294661 (100)\ttotal: 6m 4s\tremaining: 54m 8s\n",
      "150:\ttest: 0.7351640\tbest: 0.7351640 (150)\ttotal: 9m 6s\tremaining: 51m 12s\n",
      "200:\ttest: 0.7390302\tbest: 0.7390302 (200)\ttotal: 11m 34s\tremaining: 45m 59s\n",
      "250:\ttest: 0.7415928\tbest: 0.7415928 (250)\ttotal: 14m 3s\tremaining: 41m 56s\n",
      "300:\ttest: 0.7429358\tbest: 0.7429358 (300)\ttotal: 16m 26s\tremaining: 38m 11s\n",
      "350:\ttest: 0.7446032\tbest: 0.7446032 (350)\ttotal: 18m 50s\tremaining: 34m 51s\n",
      "400:\ttest: 0.7458489\tbest: 0.7458497 (399)\ttotal: 21m 11s\tremaining: 31m 39s\n",
      "450:\ttest: 0.7468467\tbest: 0.7468661 (449)\ttotal: 23m 30s\tremaining: 28m 36s\n",
      "500:\ttest: 0.7479401\tbest: 0.7479641 (498)\ttotal: 25m 47s\tremaining: 25m 41s\n",
      "550:\ttest: 0.7488143\tbest: 0.7488725 (549)\ttotal: 28m 1s\tremaining: 22m 50s\n",
      "600:\ttest: 0.7495885\tbest: 0.7496295 (598)\ttotal: 30m 19s\tremaining: 20m 8s\n",
      "650:\ttest: 0.7499126\tbest: 0.7499706 (636)\ttotal: 32m 37s\tremaining: 17m 29s\n",
      "700:\ttest: 0.7505161\tbest: 0.7505161 (700)\ttotal: 34m 59s\tremaining: 14m 55s\n",
      "750:\ttest: 0.7507107\tbest: 0.7507229 (747)\ttotal: 37m 20s\tremaining: 12m 22s\n",
      "800:\ttest: 0.7507892\tbest: 0.7507928 (794)\ttotal: 39m 37s\tremaining: 9m 50s\n",
      "850:\ttest: 0.7506744\tbest: 0.7508413 (830)\ttotal: 41m 54s\tremaining: 7m 20s\n",
      "900:\ttest: 0.7511248\tbest: 0.7511337 (878)\ttotal: 44m 9s\tremaining: 4m 51s\n",
      "950:\ttest: 0.7510674\tbest: 0.7511710 (940)\ttotal: 46m 22s\tremaining: 2m 23s\n",
      "999:\ttest: 0.7512027\tbest: 0.7512503 (997)\ttotal: 48m 33s\tremaining: 0us\n",
      "\n",
      "bestTest = 0.7512503285\n",
      "bestIteration = 997\n",
      "\n",
      "Shrink model to first 998 iterations.\n",
      "Training with fold 1 completed.\n",
      "Training with fold 2 started.\n",
      "0:\ttest: 0.5860160\tbest: 0.5860160 (0)\ttotal: 3.67s\tremaining: 1h 1m 8s\n",
      "50:\ttest: 0.7135898\tbest: 0.7135898 (50)\ttotal: 2m 37s\tremaining: 48m 52s\n",
      "100:\ttest: 0.7288368\tbest: 0.7288368 (100)\ttotal: 5m 29s\tremaining: 48m 52s\n",
      "150:\ttest: 0.7337436\tbest: 0.7337436 (150)\ttotal: 8m 43s\tremaining: 49m 1s\n",
      "200:\ttest: 0.7368790\tbest: 0.7368790 (200)\ttotal: 11m 11s\tremaining: 44m 28s\n",
      "250:\ttest: 0.7394064\tbest: 0.7394119 (249)\ttotal: 13m 49s\tremaining: 41m 13s\n",
      "300:\ttest: 0.7410476\tbest: 0.7410476 (300)\ttotal: 16m 14s\tremaining: 37m 42s\n",
      "350:\ttest: 0.7425578\tbest: 0.7425590 (349)\ttotal: 18m 34s\tremaining: 34m 20s\n",
      "400:\ttest: 0.7437322\tbest: 0.7437444 (398)\ttotal: 20m 51s\tremaining: 31m 8s\n",
      "450:\ttest: 0.7446720\tbest: 0.7446720 (450)\ttotal: 23m 6s\tremaining: 28m 8s\n",
      "500:\ttest: 0.7455191\tbest: 0.7455191 (500)\ttotal: 25m 21s\tremaining: 25m 15s\n",
      "550:\ttest: 0.7463215\tbest: 0.7463215 (550)\ttotal: 27m 35s\tremaining: 22m 29s\n",
      "600:\ttest: 0.7469868\tbest: 0.7469868 (600)\ttotal: 29m 47s\tremaining: 19m 46s\n",
      "650:\ttest: 0.7473640\tbest: 0.7473758 (646)\ttotal: 31m 57s\tremaining: 17m 7s\n",
      "700:\ttest: 0.7483004\tbest: 0.7483551 (693)\ttotal: 34m 9s\tremaining: 14m 34s\n",
      "750:\ttest: 0.7485921\tbest: 0.7485921 (750)\ttotal: 36m 22s\tremaining: 12m 3s\n",
      "800:\ttest: 0.7489944\tbest: 0.7490208 (797)\ttotal: 38m 36s\tremaining: 9m 35s\n",
      "850:\ttest: 0.7491987\tbest: 0.7492217 (849)\ttotal: 40m 47s\tremaining: 7m 8s\n",
      "900:\ttest: 0.7494151\tbest: 0.7494151 (900)\ttotal: 43m 4s\tremaining: 4m 43s\n",
      "950:\ttest: 0.7496915\tbest: 0.7497169 (948)\ttotal: 45m 22s\tremaining: 2m 20s\n",
      "999:\ttest: 0.7499250\tbest: 0.7499551 (998)\ttotal: 47m 32s\tremaining: 0us\n",
      "\n",
      "bestTest = 0.7499550607\n",
      "bestIteration = 998\n",
      "\n",
      "Shrink model to first 999 iterations.\n",
      "Training with fold 2 completed.\n",
      "Training with fold 3 started.\n",
      "0:\ttest: 0.5968318\tbest: 0.5968318 (0)\ttotal: 3.7s\tremaining: 1h 1m 37s\n",
      "50:\ttest: 0.7141033\tbest: 0.7141033 (50)\ttotal: 2m 33s\tremaining: 47m 42s\n",
      "100:\ttest: 0.7318351\tbest: 0.7318351 (100)\ttotal: 5m 17s\tremaining: 47m 8s\n",
      "150:\ttest: 0.7380431\tbest: 0.7380431 (150)\ttotal: 7m 52s\tremaining: 44m 19s\n",
      "200:\ttest: 0.7412615\tbest: 0.7412615 (200)\ttotal: 10m 20s\tremaining: 41m 5s\n",
      "250:\ttest: 0.7438989\tbest: 0.7438989 (250)\ttotal: 12m 44s\tremaining: 38m\n",
      "300:\ttest: 0.7453676\tbest: 0.7453676 (300)\ttotal: 15m 28s\tremaining: 35m 56s\n",
      "350:\ttest: 0.7466935\tbest: 0.7466935 (350)\ttotal: 17m 46s\tremaining: 32m 52s\n",
      "400:\ttest: 0.7476671\tbest: 0.7476854 (398)\ttotal: 20m 4s\tremaining: 29m 59s\n",
      "450:\ttest: 0.7481346\tbest: 0.7481695 (449)\ttotal: 22m 25s\tremaining: 27m 17s\n",
      "500:\ttest: 0.7488948\tbest: 0.7488992 (498)\ttotal: 24m 43s\tremaining: 24m 37s\n",
      "550:\ttest: 0.7496178\tbest: 0.7496693 (545)\ttotal: 26m 57s\tremaining: 21m 58s\n",
      "600:\ttest: 0.7501603\tbest: 0.7501773 (594)\ttotal: 29m 10s\tremaining: 19m 22s\n",
      "650:\ttest: 0.7507604\tbest: 0.7507896 (648)\ttotal: 31m 20s\tremaining: 16m 48s\n",
      "700:\ttest: 0.7507379\tbest: 0.7507975 (654)\ttotal: 33m 31s\tremaining: 14m 17s\n",
      "750:\ttest: 0.7512699\tbest: 0.7513171 (743)\ttotal: 35m 42s\tremaining: 11m 50s\n",
      "800:\ttest: 0.7513471\tbest: 0.7514054 (797)\ttotal: 37m 53s\tremaining: 9m 24s\n",
      "850:\ttest: 0.7515765\tbest: 0.7515962 (849)\ttotal: 40m 4s\tremaining: 7m 1s\n",
      "900:\ttest: 0.7515739\tbest: 0.7517459 (864)\ttotal: 42m 16s\tremaining: 4m 38s\n",
      "950:\ttest: 0.7515204\tbest: 0.7517459 (864)\ttotal: 44m 28s\tremaining: 2m 17s\n",
      "Stopped by overfitting detector  (100 iterations wait)\n",
      "\n",
      "bestTest = 0.7517458759\n",
      "bestIteration = 864\n",
      "\n",
      "Shrink model to first 865 iterations.\n",
      "Training with fold 3 completed.\n",
      "Training with fold 4 started.\n",
      "0:\ttest: 0.5902153\tbest: 0.5902153 (0)\ttotal: 3.42s\tremaining: 56m 55s\n",
      "50:\ttest: 0.7112221\tbest: 0.7112221 (50)\ttotal: 2m 42s\tremaining: 50m 32s\n"
     ]
    }
   ],
   "source": [
    "model = fitModel(data)"
   ]
  },
  {
   "cell_type": "code",
   "execution_count": null,
   "metadata": {},
   "outputs": [],
   "source": [
    "test_data.fillna(0, inplace=True)"
   ]
  },
  {
   "cell_type": "code",
   "execution_count": null,
   "metadata": {},
   "outputs": [],
   "source": [
    "features = [x for x in test_data.columns if x not in ['app_id', 'flag']]\n",
    "score = np.zeros(len(test_data))\n",
    "\n",
    "test_pool = cb.Pool(test_data[features])\n",
    "\n",
    "for m in tqdm.tqdm_notebook(models):\n",
    "    score += m.predict_proba(test_pool)[:, 1] / len(model)\n",
    "    \n",
    "submission = pd.DataFrame({\n",
    "    'app_id' : test_data.app_id.values,\n",
    "    'flag': score\n",
    "}) # ~ 0.732 на public test"
   ]
  },
  {
   "cell_type": "code",
   "execution_count": null,
   "metadata": {},
   "outputs": [],
   "source": [
    "\n",
    "submission.to_csv('CatBoostClassifier.csv', index=None)"
   ]
  },
  {
   "cell_type": "code",
   "execution_count": null,
   "metadata": {},
   "outputs": [],
   "source": []
  },
  {
   "cell_type": "code",
   "execution_count": 31,
   "metadata": {},
   "outputs": [],
   "source": [
    "pred = model.predict(test_data)"
   ]
  },
  {
   "cell_type": "code",
   "execution_count": 32,
   "metadata": {},
   "outputs": [],
   "source": [
    "submission = pd.DataFrame({\n",
    "    'app_id' : test_data.app_id.values,\n",
    "    'flag': pred\n",
    "}) \n",
    "\n",
    "submission.to_csv('CatBoostClassifier.csv', index=None)"
   ]
  },
  {
   "cell_type": "code",
   "execution_count": null,
   "metadata": {},
   "outputs": [],
   "source": []
  },
  {
   "cell_type": "code",
   "execution_count": null,
   "metadata": {},
   "outputs": [],
   "source": [
    "neptune.stop()"
   ]
  },
  {
   "cell_type": "code",
   "execution_count": null,
   "metadata": {},
   "outputs": [],
   "source": []
  },
  {
   "cell_type": "code",
   "execution_count": 287,
   "metadata": {},
   "outputs": [
    {
     "data": {
      "text/plain": [
       "(502716, 578)"
      ]
     },
     "execution_count": 287,
     "metadata": {},
     "output_type": "execute_result"
    }
   ],
   "source": [
    "test_data.shape"
   ]
  },
  {
   "cell_type": "code",
   "execution_count": 291,
   "metadata": {},
   "outputs": [
    {
     "data": {
      "text/plain": [
       "(502716, 2)"
      ]
     },
     "execution_count": 291,
     "metadata": {},
     "output_type": "execute_result"
    }
   ],
   "source": [
    "submission.shape"
   ]
  },
  {
   "cell_type": "code",
   "execution_count": 284,
   "metadata": {},
   "outputs": [
    {
     "data": {
      "text/plain": [
       "(502716, 2)"
      ]
     },
     "execution_count": 284,
     "metadata": {},
     "output_type": "execute_result"
    }
   ],
   "source": [
    "test_target.shape"
   ]
  },
  {
   "cell_type": "code",
   "execution_count": 272,
   "metadata": {},
   "outputs": [
    {
     "data": {
      "text/plain": [
       "Index(['app_id', 'product'], dtype='object')"
      ]
     },
     "execution_count": 272,
     "metadata": {},
     "output_type": "execute_result"
    }
   ],
   "source": [
    "test_target.columns"
   ]
  },
  {
   "cell_type": "code",
   "execution_count": 286,
   "metadata": {},
   "outputs": [],
   "source": [
    "test_data.drop(['product'], axis=1, inplace=True)\n",
    "test_data = test_data.merge(test_target[['app_id', 'product']], on='app_id', how='right')"
   ]
  },
  {
   "cell_type": "code",
   "execution_count": 294,
   "metadata": {},
   "outputs": [
    {
     "data": {
      "text/html": [
       "<div>\n",
       "<style scoped>\n",
       "    .dataframe tbody tr th:only-of-type {\n",
       "        vertical-align: middle;\n",
       "    }\n",
       "\n",
       "    .dataframe tbody tr th {\n",
       "        vertical-align: top;\n",
       "    }\n",
       "\n",
       "    .dataframe thead th {\n",
       "        text-align: right;\n",
       "    }\n",
       "</style>\n",
       "<table border=\"1\" class=\"dataframe\">\n",
       "  <thead>\n",
       "    <tr style=\"text-align: right;\">\n",
       "      <th></th>\n",
       "      <th>app_id</th>\n",
       "      <th>amnt_count</th>\n",
       "      <th>amnt_std</th>\n",
       "      <th>amnt_mean</th>\n",
       "      <th>amnt_median</th>\n",
       "      <th>amnt_sum</th>\n",
       "      <th>amnt_max</th>\n",
       "      <th>amnt_min</th>\n",
       "      <th>amnt_p5</th>\n",
       "      <th>amnt_p25</th>\n",
       "      <th>...</th>\n",
       "      <th>180_mcc_category_p75</th>\n",
       "      <th>180_mcc_category_p95</th>\n",
       "      <th>180_hour_diff_nunique</th>\n",
       "      <th>180_hour_diff_mean</th>\n",
       "      <th>180_hour_diff_median</th>\n",
       "      <th>180_hour_diff_p5</th>\n",
       "      <th>180_hour_diff_p25</th>\n",
       "      <th>180_hour_diff_p75</th>\n",
       "      <th>180_hour_diff_p95</th>\n",
       "      <th>product</th>\n",
       "    </tr>\n",
       "  </thead>\n",
       "  <tbody>\n",
       "    <tr>\n",
       "      <th>502713</th>\n",
       "      <td>1580440</td>\n",
       "      <td>0.0</td>\n",
       "      <td>0.0</td>\n",
       "      <td>0.0</td>\n",
       "      <td>0.0</td>\n",
       "      <td>0.0</td>\n",
       "      <td>0.0</td>\n",
       "      <td>0.0</td>\n",
       "      <td>0.0</td>\n",
       "      <td>0.0</td>\n",
       "      <td>...</td>\n",
       "      <td>0.0</td>\n",
       "      <td>0.0</td>\n",
       "      <td>0.0</td>\n",
       "      <td>0.0</td>\n",
       "      <td>0.0</td>\n",
       "      <td>0.0</td>\n",
       "      <td>0.0</td>\n",
       "      <td>0.0</td>\n",
       "      <td>0.0</td>\n",
       "      <td>0</td>\n",
       "    </tr>\n",
       "  </tbody>\n",
       "</table>\n",
       "<p>1 rows × 578 columns</p>\n",
       "</div>"
      ],
      "text/plain": [
       "         app_id  amnt_count  amnt_std  amnt_mean  amnt_median  amnt_sum  \\\n",
       "502713  1580440         0.0       0.0        0.0          0.0       0.0   \n",
       "\n",
       "        amnt_max  amnt_min  amnt_p5  amnt_p25  ...  180_mcc_category_p75  \\\n",
       "502713       0.0       0.0      0.0       0.0  ...                   0.0   \n",
       "\n",
       "        180_mcc_category_p95  180_hour_diff_nunique  180_hour_diff_mean  \\\n",
       "502713                   0.0                    0.0                 0.0   \n",
       "\n",
       "        180_hour_diff_median  180_hour_diff_p5  180_hour_diff_p25  \\\n",
       "502713                   0.0               0.0                0.0   \n",
       "\n",
       "        180_hour_diff_p75  180_hour_diff_p95  product  \n",
       "502713                0.0                0.0        0  \n",
       "\n",
       "[1 rows x 578 columns]"
      ]
     },
     "execution_count": 294,
     "metadata": {},
     "output_type": "execute_result"
    }
   ],
   "source": [
    "test_data[test_data['app_id'] == 1580440]"
   ]
  },
  {
   "cell_type": "code",
   "execution_count": 296,
   "metadata": {},
   "outputs": [
    {
     "data": {
      "text/plain": [
       "(816536, 579)"
      ]
     },
     "execution_count": 296,
     "metadata": {},
     "output_type": "execute_result"
    }
   ],
   "source": [
    "data.shape"
   ]
  },
  {
   "cell_type": "code",
   "execution_count": 297,
   "metadata": {},
   "outputs": [
    {
     "data": {
      "text/plain": [
       "(963811, 3)"
      ]
     },
     "execution_count": 297,
     "metadata": {},
     "output_type": "execute_result"
    }
   ],
   "source": [
    "targets.shape"
   ]
  },
  {
   "cell_type": "code",
   "execution_count": 282,
   "metadata": {},
   "outputs": [
    {
     "data": {
      "text/plain": [
       "(434516, 2)"
      ]
     },
     "execution_count": 282,
     "metadata": {},
     "output_type": "execute_result"
    }
   ],
   "source": [
    "submission.shape"
   ]
  },
  {
   "cell_type": "code",
   "execution_count": null,
   "metadata": {},
   "outputs": [],
   "source": []
  },
  {
   "cell_type": "code",
   "execution_count": 5,
   "metadata": {},
   "outputs": [],
   "source": [
    "data = pd.read_csv('merged_data.csv')"
   ]
  },
  {
   "cell_type": "code",
   "execution_count": 6,
   "metadata": {},
   "outputs": [],
   "source": [
    "targets = pd.read_csv(TRAIN_TARGET_PATH)"
   ]
  },
  {
   "cell_type": "code",
   "execution_count": 7,
   "metadata": {},
   "outputs": [],
   "source": [
    "\n",
    "data.drop(['product', 'flag'], axis=1, inplace=True)\n",
    "data = data.merge(targets[['app_id', 'product', 'flag']], on='app_id', how='right')\n",
    "data.fillna(0, inplace=True)"
   ]
  },
  {
   "cell_type": "code",
   "execution_count": 8,
   "metadata": {},
   "outputs": [],
   "source": [
    "data.to_csv('merged_data.csv', index=False)"
   ]
  },
  {
   "cell_type": "code",
   "execution_count": null,
   "metadata": {},
   "outputs": [],
   "source": []
  }
 ],
 "metadata": {
  "hide_input": false,
  "kernelspec": {
   "display_name": "Python 3",
   "language": "python",
   "name": "python3"
  },
  "language_info": {
   "codemirror_mode": {
    "name": "ipython",
    "version": 3
   },
   "file_extension": ".py",
   "mimetype": "text/x-python",
   "name": "python",
   "nbconvert_exporter": "python",
   "pygments_lexer": "ipython3",
   "version": "3.8.2"
  },
  "toc": {
   "base_numbering": 1,
   "nav_menu": {},
   "number_sections": true,
   "sideBar": true,
   "skip_h1_title": false,
   "title_cell": "Table of Contents",
   "title_sidebar": "Contents",
   "toc_cell": false,
   "toc_position": {},
   "toc_section_display": true,
   "toc_window_display": false
  },
  "varInspector": {
   "cols": {
    "lenName": 16,
    "lenType": 16,
    "lenVar": 40
   },
   "kernels_config": {
    "python": {
     "delete_cmd_postfix": "",
     "delete_cmd_prefix": "del ",
     "library": "var_list.py",
     "varRefreshCmd": "print(var_dic_list())"
    },
    "r": {
     "delete_cmd_postfix": ") ",
     "delete_cmd_prefix": "rm(",
     "library": "var_list.r",
     "varRefreshCmd": "cat(var_dic_list()) "
    }
   },
   "types_to_exclude": [
    "module",
    "function",
    "builtin_function_or_method",
    "instance",
    "_Feature"
   ],
   "window_display": false
  }
 },
 "nbformat": 4,
 "nbformat_minor": 4
}
